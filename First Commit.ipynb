{
 "cells": [
  {
   "cell_type": "code",
   "execution_count": 1,
   "metadata": {},
   "outputs": [],
   "source": [
    "import pandas as pd\n",
    "import numpy as np\n",
    "\n",
    "import seaborn as sns \n",
    "import matplotlib.pyplot as plt\n",
    "\n",
    "import warnings\n",
    "warnings.filterwarnings('ignore')\n",
    "\n"
   ]
  },
  {
   "cell_type": "code",
   "execution_count": 2,
   "metadata": {},
   "outputs": [],
   "source": [
    "train = pd.read_csv('train.csv')\n",
    "test = pd.read_csv('test.csv')\n",
    "\n",
    "trainCopy = train.copy()\n",
    "testCopy = test.copy()\n",
    "\n"
   ]
  },
  {
   "cell_type": "code",
   "execution_count": 3,
   "metadata": {},
   "outputs": [
    {
     "data": {
      "text/html": [
       "<div>\n",
       "<style scoped>\n",
       "    .dataframe tbody tr th:only-of-type {\n",
       "        vertical-align: middle;\n",
       "    }\n",
       "\n",
       "    .dataframe tbody tr th {\n",
       "        vertical-align: top;\n",
       "    }\n",
       "\n",
       "    .dataframe thead th {\n",
       "        text-align: right;\n",
       "    }\n",
       "</style>\n",
       "<table border=\"1\" class=\"dataframe\">\n",
       "  <thead>\n",
       "    <tr style=\"text-align: right;\">\n",
       "      <th></th>\n",
       "      <th>country</th>\n",
       "      <th>year</th>\n",
       "      <th>uniqueid</th>\n",
       "      <th>bank_account</th>\n",
       "      <th>location_type</th>\n",
       "      <th>cellphone_access</th>\n",
       "      <th>household_size</th>\n",
       "      <th>age_of_respondent</th>\n",
       "      <th>gender_of_respondent</th>\n",
       "      <th>relationship_with_head</th>\n",
       "      <th>marital_status</th>\n",
       "      <th>education_level</th>\n",
       "      <th>job_type</th>\n",
       "    </tr>\n",
       "  </thead>\n",
       "  <tbody>\n",
       "    <tr>\n",
       "      <th>0</th>\n",
       "      <td>Kenya</td>\n",
       "      <td>2018</td>\n",
       "      <td>uniqueid_1</td>\n",
       "      <td>Yes</td>\n",
       "      <td>Rural</td>\n",
       "      <td>Yes</td>\n",
       "      <td>3</td>\n",
       "      <td>24</td>\n",
       "      <td>Female</td>\n",
       "      <td>Spouse</td>\n",
       "      <td>Married/Living together</td>\n",
       "      <td>Secondary education</td>\n",
       "      <td>Self employed</td>\n",
       "    </tr>\n",
       "    <tr>\n",
       "      <th>1</th>\n",
       "      <td>Kenya</td>\n",
       "      <td>2018</td>\n",
       "      <td>uniqueid_2</td>\n",
       "      <td>No</td>\n",
       "      <td>Rural</td>\n",
       "      <td>No</td>\n",
       "      <td>5</td>\n",
       "      <td>70</td>\n",
       "      <td>Female</td>\n",
       "      <td>Head of Household</td>\n",
       "      <td>Widowed</td>\n",
       "      <td>No formal education</td>\n",
       "      <td>Government Dependent</td>\n",
       "    </tr>\n",
       "    <tr>\n",
       "      <th>2</th>\n",
       "      <td>Kenya</td>\n",
       "      <td>2018</td>\n",
       "      <td>uniqueid_3</td>\n",
       "      <td>Yes</td>\n",
       "      <td>Urban</td>\n",
       "      <td>Yes</td>\n",
       "      <td>5</td>\n",
       "      <td>26</td>\n",
       "      <td>Male</td>\n",
       "      <td>Other relative</td>\n",
       "      <td>Single/Never Married</td>\n",
       "      <td>Vocational/Specialised training</td>\n",
       "      <td>Self employed</td>\n",
       "    </tr>\n",
       "    <tr>\n",
       "      <th>3</th>\n",
       "      <td>Kenya</td>\n",
       "      <td>2018</td>\n",
       "      <td>uniqueid_4</td>\n",
       "      <td>No</td>\n",
       "      <td>Rural</td>\n",
       "      <td>Yes</td>\n",
       "      <td>5</td>\n",
       "      <td>34</td>\n",
       "      <td>Female</td>\n",
       "      <td>Head of Household</td>\n",
       "      <td>Married/Living together</td>\n",
       "      <td>Primary education</td>\n",
       "      <td>Formally employed Private</td>\n",
       "    </tr>\n",
       "    <tr>\n",
       "      <th>4</th>\n",
       "      <td>Kenya</td>\n",
       "      <td>2018</td>\n",
       "      <td>uniqueid_5</td>\n",
       "      <td>No</td>\n",
       "      <td>Urban</td>\n",
       "      <td>No</td>\n",
       "      <td>8</td>\n",
       "      <td>26</td>\n",
       "      <td>Male</td>\n",
       "      <td>Child</td>\n",
       "      <td>Single/Never Married</td>\n",
       "      <td>Primary education</td>\n",
       "      <td>Informally employed</td>\n",
       "    </tr>\n",
       "  </tbody>\n",
       "</table>\n",
       "</div>"
      ],
      "text/plain": [
       "  country  year    uniqueid bank_account location_type cellphone_access  \\\n",
       "0   Kenya  2018  uniqueid_1          Yes         Rural              Yes   \n",
       "1   Kenya  2018  uniqueid_2           No         Rural               No   \n",
       "2   Kenya  2018  uniqueid_3          Yes         Urban              Yes   \n",
       "3   Kenya  2018  uniqueid_4           No         Rural              Yes   \n",
       "4   Kenya  2018  uniqueid_5           No         Urban               No   \n",
       "\n",
       "   household_size  age_of_respondent gender_of_respondent  \\\n",
       "0               3                 24               Female   \n",
       "1               5                 70               Female   \n",
       "2               5                 26                 Male   \n",
       "3               5                 34               Female   \n",
       "4               8                 26                 Male   \n",
       "\n",
       "  relationship_with_head           marital_status  \\\n",
       "0                 Spouse  Married/Living together   \n",
       "1      Head of Household                  Widowed   \n",
       "2         Other relative     Single/Never Married   \n",
       "3      Head of Household  Married/Living together   \n",
       "4                  Child     Single/Never Married   \n",
       "\n",
       "                   education_level                   job_type  \n",
       "0              Secondary education              Self employed  \n",
       "1              No formal education       Government Dependent  \n",
       "2  Vocational/Specialised training              Self employed  \n",
       "3                Primary education  Formally employed Private  \n",
       "4                Primary education        Informally employed  "
      ]
     },
     "execution_count": 3,
     "metadata": {},
     "output_type": "execute_result"
    }
   ],
   "source": [
    "train.head()"
   ]
  },
  {
   "cell_type": "code",
   "execution_count": 4,
   "metadata": {},
   "outputs": [
    {
     "data": {
      "text/plain": [
       "(23524, 13)"
      ]
     },
     "execution_count": 4,
     "metadata": {},
     "output_type": "execute_result"
    }
   ],
   "source": [
    "train.shape"
   ]
  },
  {
   "cell_type": "code",
   "execution_count": 5,
   "metadata": {},
   "outputs": [
    {
     "data": {
      "text/html": [
       "<div>\n",
       "<style scoped>\n",
       "    .dataframe tbody tr th:only-of-type {\n",
       "        vertical-align: middle;\n",
       "    }\n",
       "\n",
       "    .dataframe tbody tr th {\n",
       "        vertical-align: top;\n",
       "    }\n",
       "\n",
       "    .dataframe thead th {\n",
       "        text-align: right;\n",
       "    }\n",
       "</style>\n",
       "<table border=\"1\" class=\"dataframe\">\n",
       "  <thead>\n",
       "    <tr style=\"text-align: right;\">\n",
       "      <th></th>\n",
       "      <th>year</th>\n",
       "      <th>household_size</th>\n",
       "      <th>age_of_respondent</th>\n",
       "    </tr>\n",
       "  </thead>\n",
       "  <tbody>\n",
       "    <tr>\n",
       "      <th>count</th>\n",
       "      <td>23524.000000</td>\n",
       "      <td>23524.000000</td>\n",
       "      <td>23524.000000</td>\n",
       "    </tr>\n",
       "    <tr>\n",
       "      <th>mean</th>\n",
       "      <td>2016.975939</td>\n",
       "      <td>3.797483</td>\n",
       "      <td>38.805220</td>\n",
       "    </tr>\n",
       "    <tr>\n",
       "      <th>std</th>\n",
       "      <td>0.847371</td>\n",
       "      <td>2.227613</td>\n",
       "      <td>16.520569</td>\n",
       "    </tr>\n",
       "    <tr>\n",
       "      <th>min</th>\n",
       "      <td>2016.000000</td>\n",
       "      <td>1.000000</td>\n",
       "      <td>16.000000</td>\n",
       "    </tr>\n",
       "    <tr>\n",
       "      <th>25%</th>\n",
       "      <td>2016.000000</td>\n",
       "      <td>2.000000</td>\n",
       "      <td>26.000000</td>\n",
       "    </tr>\n",
       "    <tr>\n",
       "      <th>50%</th>\n",
       "      <td>2017.000000</td>\n",
       "      <td>3.000000</td>\n",
       "      <td>35.000000</td>\n",
       "    </tr>\n",
       "    <tr>\n",
       "      <th>75%</th>\n",
       "      <td>2018.000000</td>\n",
       "      <td>5.000000</td>\n",
       "      <td>49.000000</td>\n",
       "    </tr>\n",
       "    <tr>\n",
       "      <th>max</th>\n",
       "      <td>2018.000000</td>\n",
       "      <td>21.000000</td>\n",
       "      <td>100.000000</td>\n",
       "    </tr>\n",
       "  </tbody>\n",
       "</table>\n",
       "</div>"
      ],
      "text/plain": [
       "               year  household_size  age_of_respondent\n",
       "count  23524.000000    23524.000000       23524.000000\n",
       "mean    2016.975939        3.797483          38.805220\n",
       "std        0.847371        2.227613          16.520569\n",
       "min     2016.000000        1.000000          16.000000\n",
       "25%     2016.000000        2.000000          26.000000\n",
       "50%     2017.000000        3.000000          35.000000\n",
       "75%     2018.000000        5.000000          49.000000\n",
       "max     2018.000000       21.000000         100.000000"
      ]
     },
     "execution_count": 5,
     "metadata": {},
     "output_type": "execute_result"
    }
   ],
   "source": [
    "train.describe()"
   ]
  },
  {
   "cell_type": "code",
   "execution_count": 6,
   "metadata": {},
   "outputs": [
    {
     "data": {
      "text/html": [
       "<div>\n",
       "<style scoped>\n",
       "    .dataframe tbody tr th:only-of-type {\n",
       "        vertical-align: middle;\n",
       "    }\n",
       "\n",
       "    .dataframe tbody tr th {\n",
       "        vertical-align: top;\n",
       "    }\n",
       "\n",
       "    .dataframe thead th {\n",
       "        text-align: right;\n",
       "    }\n",
       "</style>\n",
       "<table border=\"1\" class=\"dataframe\">\n",
       "  <thead>\n",
       "    <tr style=\"text-align: right;\">\n",
       "      <th></th>\n",
       "      <th>country</th>\n",
       "      <th>uniqueid</th>\n",
       "      <th>bank_account</th>\n",
       "      <th>location_type</th>\n",
       "      <th>cellphone_access</th>\n",
       "      <th>gender_of_respondent</th>\n",
       "      <th>relationship_with_head</th>\n",
       "      <th>marital_status</th>\n",
       "      <th>education_level</th>\n",
       "      <th>job_type</th>\n",
       "    </tr>\n",
       "  </thead>\n",
       "  <tbody>\n",
       "    <tr>\n",
       "      <th>count</th>\n",
       "      <td>23524</td>\n",
       "      <td>23524</td>\n",
       "      <td>23524</td>\n",
       "      <td>23524</td>\n",
       "      <td>23524</td>\n",
       "      <td>23524</td>\n",
       "      <td>23524</td>\n",
       "      <td>23524</td>\n",
       "      <td>23524</td>\n",
       "      <td>23524</td>\n",
       "    </tr>\n",
       "    <tr>\n",
       "      <th>unique</th>\n",
       "      <td>4</td>\n",
       "      <td>8735</td>\n",
       "      <td>2</td>\n",
       "      <td>2</td>\n",
       "      <td>2</td>\n",
       "      <td>2</td>\n",
       "      <td>6</td>\n",
       "      <td>5</td>\n",
       "      <td>6</td>\n",
       "      <td>10</td>\n",
       "    </tr>\n",
       "    <tr>\n",
       "      <th>top</th>\n",
       "      <td>Rwanda</td>\n",
       "      <td>uniqueid_449</td>\n",
       "      <td>No</td>\n",
       "      <td>Rural</td>\n",
       "      <td>Yes</td>\n",
       "      <td>Female</td>\n",
       "      <td>Head of Household</td>\n",
       "      <td>Married/Living together</td>\n",
       "      <td>Primary education</td>\n",
       "      <td>Self employed</td>\n",
       "    </tr>\n",
       "    <tr>\n",
       "      <th>freq</th>\n",
       "      <td>8735</td>\n",
       "      <td>4</td>\n",
       "      <td>20212</td>\n",
       "      <td>14343</td>\n",
       "      <td>17454</td>\n",
       "      <td>13877</td>\n",
       "      <td>12831</td>\n",
       "      <td>10749</td>\n",
       "      <td>12791</td>\n",
       "      <td>6437</td>\n",
       "    </tr>\n",
       "  </tbody>\n",
       "</table>\n",
       "</div>"
      ],
      "text/plain": [
       "       country      uniqueid bank_account location_type cellphone_access  \\\n",
       "count    23524         23524        23524         23524            23524   \n",
       "unique       4          8735            2             2                2   \n",
       "top     Rwanda  uniqueid_449           No         Rural              Yes   \n",
       "freq      8735             4        20212         14343            17454   \n",
       "\n",
       "       gender_of_respondent relationship_with_head           marital_status  \\\n",
       "count                 23524                  23524                    23524   \n",
       "unique                    2                      6                        5   \n",
       "top                  Female      Head of Household  Married/Living together   \n",
       "freq                  13877                  12831                    10749   \n",
       "\n",
       "          education_level       job_type  \n",
       "count               23524          23524  \n",
       "unique                  6             10  \n",
       "top     Primary education  Self employed  \n",
       "freq                12791           6437  "
      ]
     },
     "execution_count": 6,
     "metadata": {},
     "output_type": "execute_result"
    }
   ],
   "source": [
    "train.describe(include=['object'])"
   ]
  },
  {
   "cell_type": "code",
   "execution_count": 7,
   "metadata": {},
   "outputs": [
    {
     "name": "stdout",
     "output_type": "stream",
     "text": [
      "<class 'pandas.core.frame.DataFrame'>\n",
      "RangeIndex: 23524 entries, 0 to 23523\n",
      "Data columns (total 13 columns):\n",
      " #   Column                  Non-Null Count  Dtype \n",
      "---  ------                  --------------  ----- \n",
      " 0   country                 23524 non-null  object\n",
      " 1   year                    23524 non-null  int64 \n",
      " 2   uniqueid                23524 non-null  object\n",
      " 3   bank_account            23524 non-null  object\n",
      " 4   location_type           23524 non-null  object\n",
      " 5   cellphone_access        23524 non-null  object\n",
      " 6   household_size          23524 non-null  int64 \n",
      " 7   age_of_respondent       23524 non-null  int64 \n",
      " 8   gender_of_respondent    23524 non-null  object\n",
      " 9   relationship_with_head  23524 non-null  object\n",
      " 10  marital_status          23524 non-null  object\n",
      " 11  education_level         23524 non-null  object\n",
      " 12  job_type                23524 non-null  object\n",
      "dtypes: int64(3), object(10)\n",
      "memory usage: 2.3+ MB\n"
     ]
    }
   ],
   "source": [
    "train.info()"
   ]
  },
  {
   "cell_type": "code",
   "execution_count": 8,
   "metadata": {},
   "outputs": [
    {
     "name": "stdout",
     "output_type": "stream",
     "text": [
      "['Yes' 'No']\n",
      "No     20212\n",
      "Yes     3312\n",
      "Name: bank_account, dtype: int64\n"
     ]
    },
    {
     "data": {
      "text/plain": [
       "<AxesSubplot:>"
      ]
     },
     "execution_count": 8,
     "metadata": {},
     "output_type": "execute_result"
    },
    {
     "data": {
      "image/png": "[encoded data removed]",
      "text/plain": [
       "<Figure size 432x288 with 1 Axes>"
      ]
     },
     "metadata": {
      "needs_background": "light"
     },
     "output_type": "display_data"
    }
   ],
   "source": [
    "print(train.bank_account.unique())\n",
    "print(train.bank_account.value_counts())\n",
    "train.bank_account.value_counts(normalize=True).plot.bar()"
   ]
  },
  {
   "cell_type": "code",
   "execution_count": 9,
   "metadata": {},
   "outputs": [
    {
     "name": "stdout",
     "output_type": "stream",
     "text": [
      "['Kenya' 'Rwanda' 'Tanzania' 'Uganda']\n",
      "Rwanda      8735\n",
      "Tanzania    6620\n",
      "Kenya       6068\n",
      "Uganda      2101\n",
      "Name: country, dtype: int64\n"
     ]
    },
    {
     "data": {
      "text/plain": [
       "<AxesSubplot:>"
      ]
     },
     "execution_count": 9,
     "metadata": {},
     "output_type": "execute_result"
    },
    {
     "data": {
      "image/png": "[encoded data removed]",
      "text/plain": [
       "<Figure size 432x288 with 1 Axes>"
      ]
     },
     "metadata": {
      "needs_background": "light"
     },
     "output_type": "display_data"
    }
   ],
   "source": [
    "print(train.country.unique())\n",
    "print(train.country.value_counts())\n",
    "train.country.value_counts(normalize=True).plot.bar()"
   ]
  },
  {
   "cell_type": "code",
   "execution_count": 10,
   "metadata": {},
   "outputs": [
    {
     "name": "stdout",
     "output_type": "stream",
     "text": [
      "[2018 2016 2017]\n",
      "2016    8735\n",
      "2018    8169\n",
      "2017    6620\n",
      "Name: year, dtype: int64\n"
     ]
    },
    {
     "data": {
      "text/plain": [
       "<AxesSubplot:>"
      ]
     },
     "execution_count": 10,
     "metadata": {},
     "output_type": "execute_result"
    },
    {
     "data": {
      "image/png": "[encoded data removed]",
      "text/plain": [
       "<Figure size 432x288 with 1 Axes>"
      ]
     },
     "metadata": {
      "needs_background": "light"
     },
     "output_type": "display_data"
    }
   ],
   "source": [
    "print(train.year.unique())\n",
    "print(train.year.value_counts())\n",
    "train.year.value_counts(normalize=True).plot.bar()"
   ]
  },
  {
   "cell_type": "code",
   "execution_count": 11,
   "metadata": {},
   "outputs": [
    {
     "name": "stdout",
     "output_type": "stream",
     "text": [
      "['Yes' 'No']\n",
      "Yes    17454\n",
      "No      6070\n",
      "Name: cellphone_access, dtype: int64\n"
     ]
    },
    {
     "data": {
      "text/plain": [
       "<AxesSubplot:>"
      ]
     },
     "execution_count": 11,
     "metadata": {},
     "output_type": "execute_result"
    },
    {
     "data": {
      "image/png": "[encoded data removed]",
      "text/plain": [
       "<Figure size 432x288 with 1 Axes>"
      ]
     },
     "metadata": {
      "needs_background": "light"
     },
     "output_type": "display_data"
    }
   ],
   "source": [
    "print(train.cellphone_access.unique())\n",
    "print(train.cellphone_access.value_counts())\n",
    "train.cellphone_access.value_counts(normalize=True).plot.bar()"
   ]
  },
  {
   "cell_type": "code",
   "execution_count": 12,
   "metadata": {},
   "outputs": [
    {
     "name": "stdout",
     "output_type": "stream",
     "text": [
      "['Rural' 'Urban']\n",
      "Rural    14343\n",
      "Urban     9181\n",
      "Name: location_type, dtype: int64\n"
     ]
    },
    {
     "data": {
      "text/plain": [
       "<AxesSubplot:>"
      ]
     },
     "execution_count": 12,
     "metadata": {},
     "output_type": "execute_result"
    },
    {
     "data": {
      "image/png": "[encoded data removed]",
      "text/plain": [
       "<Figure size 432x288 with 1 Axes>"
      ]
     },
     "metadata": {
      "needs_background": "light"
     },
     "output_type": "display_data"
    }
   ],
   "source": [
    "print(train.location_type.unique())\n",
    "print(train.location_type.value_counts())\n",
    "train.location_type.value_counts(normalize=True).plot.bar()"
   ]
  },
  {
   "cell_type": "code",
   "execution_count": 13,
   "metadata": {},
   "outputs": [
    {
     "name": "stdout",
     "output_type": "stream",
     "text": [
      "[ 3  5  8  7  1  6  4 10  2 11  9 12 16 15 13 14 21 18 17 20]\n"
     ]
    },
    {
     "data": {
      "text/plain": [
       "<AxesSubplot:>"
      ]
     },
     "execution_count": 13,
     "metadata": {},
     "output_type": "execute_result"
    },
    {
     "data": {
      "image/png": "[encoded data removed]",
      "text/plain": [
       "<Figure size 432x288 with 1 Axes>"
      ]
     },
     "metadata": {
      "needs_background": "light"
     },
     "output_type": "display_data"
    }
   ],
   "source": [
    "print(train.household_size.unique())\n",
    "train.household_size.value_counts(normalize=True).plot.bar()"
   ]
  },
  {
   "cell_type": "code",
   "execution_count": 14,
   "metadata": {},
   "outputs": [
    {
     "name": "stdout",
     "output_type": "stream",
     "text": [
      "[ 24  70  26  34  32  42  54  76  40  69  64  31  38  47  27  48  25  21\n",
      "  18  22  58  55  62  29  35  45  67  19  80  66  50  33  28  51  16  17\n",
      "  30  37  59  65  46  56  52  23  43  49  44  72  53  63  39  81  78  36\n",
      "  20  60  95  71  57  85  68  41  61  75  86  73  93  74  88  90  77  84\n",
      "  82  89  79  83  94  87  92  91  98  97  96  99 100]\n",
      "30    1056\n",
      "35     836\n",
      "25     792\n",
      "28     748\n",
      "32     715\n",
      "      ... \n",
      "91       5\n",
      "93       4\n",
      "96       3\n",
      "99       2\n",
      "97       1\n",
      "Name: age_of_respondent, Length: 85, dtype: int64\n"
     ]
    },
    {
     "data": {
      "text/plain": [
       "<AxesSubplot:>"
      ]
     },
     "execution_count": 14,
     "metadata": {},
     "output_type": "execute_result"
    },
    {
     "data": {
      "image/png": "[encoded data removed]",
      "text/plain": [
       "<Figure size 432x288 with 1 Axes>"
      ]
     },
     "metadata": {
      "needs_background": "light"
     },
     "output_type": "display_data"
    }
   ],
   "source": [
    "print(train.age_of_respondent.unique())\n",
    "print(train.age_of_respondent.value_counts())\n",
    "train.age_of_respondent.value_counts(normalize=True).plot.bar()"
   ]
  },
  {
   "cell_type": "code",
   "execution_count": 15,
   "metadata": {},
   "outputs": [
    {
     "name": "stdout",
     "output_type": "stream",
     "text": [
      "['Female' 'Male']\n",
      "Female    13877\n",
      "Male       9647\n",
      "Name: gender_of_respondent, dtype: int64\n"
     ]
    },
    {
     "data": {
      "text/plain": [
       "<AxesSubplot:>"
      ]
     },
     "execution_count": 15,
     "metadata": {},
     "output_type": "execute_result"
    },
    {
     "data": {
      "image/png": "[encoded data removed]",
      "text/plain": [
       "<Figure size 432x288 with 1 Axes>"
      ]
     },
     "metadata": {
      "needs_background": "light"
     },
     "output_type": "display_data"
    }
   ],
   "source": [
    "print(train.gender_of_respondent.unique())\n",
    "print(train.gender_of_respondent.value_counts())\n",
    "train.gender_of_respondent.value_counts(normalize=True).plot.bar()"
   ]
  },
  {
   "cell_type": "code",
   "execution_count": 16,
   "metadata": {},
   "outputs": [
    {
     "name": "stdout",
     "output_type": "stream",
     "text": [
      "['Spouse' 'Head of Household' 'Other relative' 'Child' 'Parent'\n",
      " 'Other non-relatives']\n",
      "Head of Household      12831\n",
      "Spouse                  6520\n",
      "Child                   2229\n",
      "Parent                  1086\n",
      "Other relative           668\n",
      "Other non-relatives      190\n",
      "Name: relationship_with_head, dtype: int64\n"
     ]
    },
    {
     "data": {
      "text/plain": [
       "<AxesSubplot:>"
      ]
     },
     "execution_count": 16,
     "metadata": {},
     "output_type": "execute_result"
    },
    {
     "data": {
      "image/png": "[encoded data removed]",
      "text/plain": [
       "<Figure size 432x288 with 1 Axes>"
      ]
     },
     "metadata": {
      "needs_background": "light"
     },
     "output_type": "display_data"
    }
   ],
   "source": [
    "print(train.relationship_with_head.unique())\n",
    "print(train.relationship_with_head.value_counts())\n",
    "train.relationship_with_head.value_counts(normalize=True).plot.bar()"
   ]
  },
  {
   "cell_type": "code",
   "execution_count": 17,
   "metadata": {},
   "outputs": [
    {
     "name": "stdout",
     "output_type": "stream",
     "text": [
      "['Married/Living together' 'Widowed' 'Single/Never Married'\n",
      " 'Divorced/Seperated' 'Dont know']\n",
      "Married/Living together    10749\n",
      "Single/Never Married        7983\n",
      "Widowed                     2708\n",
      "Divorced/Seperated          2076\n",
      "Dont know                      8\n",
      "Name: marital_status, dtype: int64\n"
     ]
    },
    {
     "data": {
      "text/plain": [
       "<AxesSubplot:>"
      ]
     },
     "execution_count": 17,
     "metadata": {},
     "output_type": "execute_result"
    },
    {
     "data": {
      "image/png": "[encoded data removed]",
      "text/plain": [
       "<Figure size 432x288 with 1 Axes>"
      ]
     },
     "metadata": {
      "needs_background": "light"
     },
     "output_type": "display_data"
    }
   ],
   "source": [
    "print(train.marital_status.unique())\n",
    "print(train.marital_status.value_counts())\n",
    "train.marital_status.value_counts(normalize=True).plot.bar()"
   ]
  },
  {
   "cell_type": "code",
   "execution_count": 18,
   "metadata": {},
   "outputs": [
    {
     "name": "stdout",
     "output_type": "stream",
     "text": [
      "['Secondary education' 'No formal education'\n",
      " 'Vocational/Specialised training' 'Primary education'\n",
      " 'Tertiary education' 'Other/Dont know/RTA']\n",
      "Primary education                  12791\n",
      "No formal education                 4515\n",
      "Secondary education                 4223\n",
      "Tertiary education                  1157\n",
      "Vocational/Specialised training      803\n",
      "Other/Dont know/RTA                   35\n",
      "Name: education_level, dtype: int64\n"
     ]
    },
    {
     "data": {
      "text/plain": [
       "<AxesSubplot:>"
      ]
     },
     "execution_count": 18,
     "metadata": {},
     "output_type": "execute_result"
    },
    {
     "data": {
      "image/png": "[encoded data removed]",
      "text/plain": [
       "<Figure size 432x288 with 1 Axes>"
      ]
     },
     "metadata": {
      "needs_background": "light"
     },
     "output_type": "display_data"
    }
   ],
   "source": [
    "print(train.education_level.unique())\n",
    "print(train.education_level.value_counts())\n",
    "train.education_level.value_counts(normalize=True).plot.bar()"
   ]
  },
  {
   "cell_type": "code",
   "execution_count": 19,
   "metadata": {},
   "outputs": [
    {
     "name": "stdout",
     "output_type": "stream",
     "text": [
      "['Self employed' 'Government Dependent' 'Formally employed Private'\n",
      " 'Informally employed' 'Formally employed Government'\n",
      " 'Farming and Fishing' 'Remittance Dependent' 'Other Income'\n",
      " 'Dont Know/Refuse to answer' 'No Income']\n",
      "Self employed                   6437\n",
      "Informally employed             5597\n",
      "Farming and Fishing             5441\n",
      "Remittance Dependent            2527\n",
      "Other Income                    1080\n",
      "Formally employed Private       1055\n",
      "No Income                        627\n",
      "Formally employed Government     387\n",
      "Government Dependent             247\n",
      "Dont Know/Refuse to answer       126\n",
      "Name: job_type, dtype: int64\n"
     ]
    },
    {
     "data": {
      "text/plain": [
       "<AxesSubplot:>"
      ]
     },
     "execution_count": 19,
     "metadata": {},
     "output_type": "execute_result"
    },
    {
     "data": {
      "image/png": "[encoded data removed]",
      "text/plain": [
       "<Figure size 432x288 with 1 Axes>"
      ]
     },
     "metadata": {
      "needs_background": "light"
     },
     "output_type": "display_data"
    }
   ],
   "source": [
    "print(train.job_type.unique())\n",
    "print(train.job_type.value_counts())\n",
    "train.job_type.value_counts(normalize=True).plot.bar()"
   ]
  },
  {
   "cell_type": "code",
   "execution_count": 20,
   "metadata": {},
   "outputs": [
    {
     "data": {
      "text/plain": [
       "<AxesSubplot:xlabel='country'>"
      ]
     },
     "execution_count": 20,
     "metadata": {},
     "output_type": "execute_result"
    },
    {
     "data": {
      "image/png": "[encoded data removed]",
      "text/plain": [
       "<Figure size 432x288 with 1 Axes>"
      ]
     },
     "metadata": {
      "needs_background": "light"
     },
     "output_type": "display_data"
    }
   ],
   "source": [
    "##Bivariate analysis \n",
    "pd.crosstab(train['country'], train['bank_account']).plot.bar()"
   ]
  },
  {
   "cell_type": "code",
   "execution_count": 21,
   "metadata": {},
   "outputs": [
    {
     "data": {
      "text/plain": [
       "<AxesSubplot:xlabel='year'>"
      ]
     },
     "execution_count": 21,
     "metadata": {},
     "output_type": "execute_result"
    },
    {
     "data": {
      "image/png": "[encoded data removed]",
      "text/plain": [
       "<Figure size 432x288 with 1 Axes>"
      ]
     },
     "metadata": {
      "needs_background": "light"
     },
     "output_type": "display_data"
    }
   ],
   "source": [
    "pd.crosstab(train['year'], train['bank_account']).plot.bar()"
   ]
  },
  {
   "cell_type": "code",
   "execution_count": 22,
   "metadata": {},
   "outputs": [
    {
     "data": {
      "text/plain": [
       "<AxesSubplot:xlabel='location_type'>"
      ]
     },
     "execution_count": 22,
     "metadata": {},
     "output_type": "execute_result"
    },
    {
     "data": {
      "image/png": "[encoded data removed]",
      "text/plain": [
       "<Figure size 432x288 with 1 Axes>"
      ]
     },
     "metadata": {
      "needs_background": "light"
     },
     "output_type": "display_data"
    }
   ],
   "source": [
    "pd.crosstab(train['location_type'], train['bank_account']).plot.bar()"
   ]
  },
  {
   "cell_type": "code",
   "execution_count": 23,
   "metadata": {},
   "outputs": [
    {
     "data": {
      "text/plain": [
       "<AxesSubplot:xlabel='cellphone_access'>"
      ]
     },
     "execution_count": 23,
     "metadata": {},
     "output_type": "execute_result"
    },
    {
     "data": {
      "image/png": "[encoded data removed]",
      "text/plain": [
       "<Figure size 432x288 with 1 Axes>"
      ]
     },
     "metadata": {
      "needs_background": "light"
     },
     "output_type": "display_data"
    }
   ],
   "source": [
    "pd.crosstab(train['cellphone_access'], train['bank_account']).plot.bar()"
   ]
  },
  {
   "cell_type": "code",
   "execution_count": 24,
   "metadata": {},
   "outputs": [
    {
     "data": {
      "text/plain": [
       "<AxesSubplot:xlabel='gender_of_respondent'>"
      ]
     },
     "execution_count": 24,
     "metadata": {},
     "output_type": "execute_result"
    },
    {
     "data": {
      "image/png": "[encoded data removed]",
      "text/plain": [
       "<Figure size 432x288 with 1 Axes>"
      ]
     },
     "metadata": {
      "needs_background": "light"
     },
     "output_type": "display_data"
    }
   ],
   "source": [
    "pd.crosstab(train['gender_of_respondent'], train['bank_account']).plot.bar()"
   ]
  },
  {
   "cell_type": "code",
   "execution_count": 25,
   "metadata": {},
   "outputs": [
    {
     "data": {
      "text/html": [
       "<div>\n",
       "<style scoped>\n",
       "    .dataframe tbody tr th:only-of-type {\n",
       "        vertical-align: middle;\n",
       "    }\n",
       "\n",
       "    .dataframe tbody tr th {\n",
       "        vertical-align: top;\n",
       "    }\n",
       "\n",
       "    .dataframe thead th {\n",
       "        text-align: right;\n",
       "    }\n",
       "</style>\n",
       "<table border=\"1\" class=\"dataframe\">\n",
       "  <thead>\n",
       "    <tr style=\"text-align: right;\">\n",
       "      <th>bank_account</th>\n",
       "      <th>No</th>\n",
       "      <th>Yes</th>\n",
       "    </tr>\n",
       "    <tr>\n",
       "      <th>gender_of_respondent</th>\n",
       "      <th></th>\n",
       "      <th></th>\n",
       "    </tr>\n",
       "  </thead>\n",
       "  <tbody>\n",
       "    <tr>\n",
       "      <th>Female</th>\n",
       "      <td>12395</td>\n",
       "      <td>1482</td>\n",
       "    </tr>\n",
       "    <tr>\n",
       "      <th>Male</th>\n",
       "      <td>7817</td>\n",
       "      <td>1830</td>\n",
       "    </tr>\n",
       "  </tbody>\n",
       "</table>\n",
       "</div>"
      ],
      "text/plain": [
       "bank_account             No   Yes\n",
       "gender_of_respondent             \n",
       "Female                12395  1482\n",
       "Male                   7817  1830"
      ]
     },
     "execution_count": 25,
     "metadata": {},
     "output_type": "execute_result"
    }
   ],
   "source": [
    "pd.crosstab(train['gender_of_respondent'], train['bank_account'])"
   ]
  },
  {
   "cell_type": "code",
   "execution_count": 26,
   "metadata": {},
   "outputs": [
    {
     "data": {
      "text/plain": [
       "<AxesSubplot:xlabel='relationship_with_head'>"
      ]
     },
     "execution_count": 26,
     "metadata": {},
     "output_type": "execute_result"
    },
    {
     "data": {
      "image/png": "[encoded data removed]",
      "text/plain": [
       "<Figure size 432x288 with 1 Axes>"
      ]
     },
     "metadata": {
      "needs_background": "light"
     },
     "output_type": "display_data"
    }
   ],
   "source": [
    "pd.crosstab(train['relationship_with_head'], train['bank_account']).plot.bar()"
   ]
  },
  {
   "cell_type": "code",
   "execution_count": 27,
   "metadata": {},
   "outputs": [
    {
     "data": {
      "text/plain": [
       "<AxesSubplot:xlabel='marital_status'>"
      ]
     },
     "execution_count": 27,
     "metadata": {},
     "output_type": "execute_result"
    },
    {
     "data": {
      "image/png": "[encoded data removed]",
      "text/plain": [
       "<Figure size 432x288 with 1 Axes>"
      ]
     },
     "metadata": {
      "needs_background": "light"
     },
     "output_type": "display_data"
    }
   ],
   "source": [
    "pd.crosstab(train['marital_status'], train['bank_account']).plot.bar()"
   ]
  },
  {
   "cell_type": "code",
   "execution_count": 28,
   "metadata": {},
   "outputs": [
    {
     "data": {
      "text/plain": [
       "Index(['country', 'year', 'uniqueid', 'bank_account', 'location_type',\n",
       "       'cellphone_access', 'household_size', 'age_of_respondent',\n",
       "       'gender_of_respondent', 'relationship_with_head', 'marital_status',\n",
       "       'education_level', 'job_type'],\n",
       "      dtype='object')"
      ]
     },
     "execution_count": 28,
     "metadata": {},
     "output_type": "execute_result"
    }
   ],
   "source": [
    "train.columns"
   ]
  },
  {
   "cell_type": "code",
   "execution_count": 29,
   "metadata": {},
   "outputs": [
    {
     "data": {
      "text/plain": [
       "<AxesSubplot:xlabel='education_level'>"
      ]
     },
     "execution_count": 29,
     "metadata": {},
     "output_type": "execute_result"
    },
    {
     "data": {
      "image/png": "[encoded data removed]",
      "text/plain": [
       "<Figure size 432x288 with 1 Axes>"
      ]
     },
     "metadata": {
      "needs_background": "light"
     },
     "output_type": "display_data"
    }
   ],
   "source": [
    "pd.crosstab(train['education_level'], train['bank_account']).plot.bar()"
   ]
  },
  {
   "cell_type": "code",
   "execution_count": 30,
   "metadata": {},
   "outputs": [
    {
     "data": {
      "text/plain": [
       "<AxesSubplot:xlabel='job_type'>"
      ]
     },
     "execution_count": 30,
     "metadata": {},
     "output_type": "execute_result"
    },
    {
     "data": {
      "image/png": "[encoded data removed]",
      "text/plain": [
       "<Figure size 432x288 with 1 Axes>"
      ]
     },
     "metadata": {
      "needs_background": "light"
     },
     "output_type": "display_data"
    }
   ],
   "source": [
    "pd.crosstab(train['job_type'], train['bank_account']).plot.bar()"
   ]
  },
  {
   "cell_type": "code",
   "execution_count": 31,
   "metadata": {},
   "outputs": [
    {
     "data": {
      "text/plain": [
       "country                   0\n",
       "year                      0\n",
       "uniqueid                  0\n",
       "bank_account              0\n",
       "location_type             0\n",
       "cellphone_access          0\n",
       "household_size            0\n",
       "age_of_respondent         0\n",
       "gender_of_respondent      0\n",
       "relationship_with_head    0\n",
       "marital_status            0\n",
       "education_level           0\n",
       "job_type                  0\n",
       "dtype: int64"
      ]
     },
     "execution_count": 31,
     "metadata": {},
     "output_type": "execute_result"
    }
   ],
   "source": [
    "## filling missing values \n",
    "train.isnull().sum()"
   ]
  },
  {
   "cell_type": "code",
   "execution_count": 32,
   "metadata": {},
   "outputs": [],
   "source": [
    "import scipy.stats as ss\n",
    "from sklearn.metrics import confusion_matrix"
   ]
  },
  {
   "cell_type": "code",
   "execution_count": 33,
   "metadata": {},
   "outputs": [],
   "source": [
    "#finding out correlation between categorical variables \n",
    "def cramers_v(x, y):\n",
    "    confusion_matrix = pd.crosstab(x,y)\n",
    "    chi2 = ss.chi2_contingency(confusion_matrix)[0]\n",
    "    n = confusion_matrix.sum().sum()\n",
    "    phi2 = chi2/n\n",
    "    r,k = confusion_matrix.shape\n",
    "    phi2corr = max(0, phi2-((k-1)*(r-1))/(n-1))\n",
    "    rcorr = r-((r-1)**2)/(n-1)\n",
    "    kcorr = k-((k-1)**2)/(n-1)\n",
    "    return np.sqrt(phi2corr/min((kcorr-1),(rcorr-1)))"
   ]
  },
  {
   "cell_type": "code",
   "execution_count": 34,
   "metadata": {},
   "outputs": [
    {
     "data": {
      "text/plain": [
       "0.18840262275814665"
      ]
     },
     "execution_count": 34,
     "metadata": {},
     "output_type": "execute_result"
    }
   ],
   "source": [
    "cramers_v(train['country'],train['bank_account'])"
   ]
  },
  {
   "cell_type": "code",
   "execution_count": 35,
   "metadata": {},
   "outputs": [
    {
     "data": {
      "text/plain": [
       "0.08692065820329438"
      ]
     },
     "execution_count": 35,
     "metadata": {},
     "output_type": "execute_result"
    }
   ],
   "source": [
    "cramers_v(train['location_type'],train['bank_account'])"
   ]
  },
  {
   "cell_type": "code",
   "execution_count": 36,
   "metadata": {},
   "outputs": [
    {
     "data": {
      "text/plain": [
       "0.20943208130516075"
      ]
     },
     "execution_count": 36,
     "metadata": {},
     "output_type": "execute_result"
    }
   ],
   "source": [
    "cramers_v(train['cellphone_access'],train['bank_account'])"
   ]
  },
  {
   "cell_type": "code",
   "execution_count": 37,
   "metadata": {},
   "outputs": [
    {
     "data": {
      "text/plain": [
       "0.11693048216660142"
      ]
     },
     "execution_count": 37,
     "metadata": {},
     "output_type": "execute_result"
    }
   ],
   "source": [
    "cramers_v(train['gender_of_respondent'],train['bank_account'])"
   ]
  },
  {
   "cell_type": "code",
   "execution_count": 38,
   "metadata": {},
   "outputs": [
    {
     "data": {
      "text/plain": [
       "0.11716340952362478"
      ]
     },
     "execution_count": 38,
     "metadata": {},
     "output_type": "execute_result"
    }
   ],
   "source": [
    "cramers_v(train['relationship_with_head'],train['bank_account'])"
   ]
  },
  {
   "cell_type": "code",
   "execution_count": 39,
   "metadata": {},
   "outputs": [
    {
     "data": {
      "text/plain": [
       "0.08970557484668122"
      ]
     },
     "execution_count": 39,
     "metadata": {},
     "output_type": "execute_result"
    }
   ],
   "source": [
    "cramers_v(train['marital_status'],train['bank_account'])"
   ]
  },
  {
   "cell_type": "code",
   "execution_count": 40,
   "metadata": {},
   "outputs": [
    {
     "data": {
      "text/plain": [
       "0.38815767342194385"
      ]
     },
     "execution_count": 40,
     "metadata": {},
     "output_type": "execute_result"
    }
   ],
   "source": [
    "cramers_v(train['education_level'],train['bank_account'])"
   ]
  },
  {
   "cell_type": "code",
   "execution_count": 41,
   "metadata": {},
   "outputs": [
    {
     "data": {
      "text/plain": [
       "0.3585014801066912"
      ]
     },
     "execution_count": 41,
     "metadata": {},
     "output_type": "execute_result"
    }
   ],
   "source": [
    "cramers_v(train['job_type'],train['bank_account'])"
   ]
  },
  {
   "cell_type": "code",
   "execution_count": 42,
   "metadata": {},
   "outputs": [],
   "source": [
    "def correlation_ratio(categories, measurements):\n",
    "    fcat, _ = pd.factorize(categories)\n",
    "    cat_num = np.max(fcat)+1\n",
    "    y_avg_array = np.zeros(cat_num)\n",
    "    n_array = np.zeros(cat_num)\n",
    "    for i in range(0,cat_num):\n",
    "        cat_measures = measurements[np.argwhere(fcat == i).flatten()]\n",
    "        n_array[i] = len(cat_measures)\n",
    "        y_avg_array[i] = np.average(cat_measures)\n",
    "    y_total_avg = np.sum(np.multiply(y_avg_array,n_array))/np.sum(n_array)\n",
    "    numerator = np.sum(np.multiply(n_array,np.power(np.subtract(y_avg_array,y_total_avg),2)))\n",
    "    denominator = np.sum(np.power(np.subtract(measurements,y_total_avg),2))\n",
    "    if numerator == 0:\n",
    "        eta = 0.0\n",
    "    else:\n",
    "        eta = np.sqrt(numerator/denominator)\n",
    "    return eta"
   ]
  },
  {
   "cell_type": "code",
   "execution_count": 43,
   "metadata": {},
   "outputs": [
    {
     "data": {
      "text/plain": [
       "0.02832647162860442"
      ]
     },
     "execution_count": 43,
     "metadata": {},
     "output_type": "execute_result"
    }
   ],
   "source": [
    "correlation_ratio(train['bank_account'],train['household_size'])"
   ]
  },
  {
   "cell_type": "code",
   "execution_count": 44,
   "metadata": {},
   "outputs": [
    {
     "data": {
      "text/plain": [
       "0.019428865928162252"
      ]
     },
     "execution_count": 44,
     "metadata": {},
     "output_type": "execute_result"
    }
   ],
   "source": [
    "correlation_ratio(train['bank_account'],train['age_of_respondent'])"
   ]
  },
  {
   "cell_type": "code",
   "execution_count": 45,
   "metadata": {},
   "outputs": [
    {
     "data": {
      "text/plain": [
       "year                -1.605870\n",
       "household_size       1.313302\n",
       "age_of_respondent    0.100138\n",
       "dtype: float64"
      ]
     },
     "execution_count": 45,
     "metadata": {},
     "output_type": "execute_result"
    }
   ],
   "source": [
    "## check for outliers \n",
    "#train['age_of_respondent']\n",
    "\n",
    "krt = train.kurt()\n",
    "krt"
   ]
  },
  {
   "cell_type": "code",
   "execution_count": 46,
   "metadata": {},
   "outputs": [
    {
     "data": {
      "text/plain": [
       "<AxesSubplot:xlabel='age_of_respondent'>"
      ]
     },
     "execution_count": 46,
     "metadata": {},
     "output_type": "execute_result"
    },
    {
     "data": {
      "image/png": "[encoded data removed]",
      "text/plain": [
       "<Figure size 432x288 with 1 Axes>"
      ]
     },
     "metadata": {
      "needs_background": "light"
     },
     "output_type": "display_data"
    }
   ],
   "source": [
    "sns.boxplot(train['age_of_respondent'])"
   ]
  },
  {
   "cell_type": "code",
   "execution_count": 47,
   "metadata": {},
   "outputs": [
    {
     "name": "stdout",
     "output_type": "stream",
     "text": [
      "16.0\n",
      "71.0\n",
      "0    30\n",
      "dtype: int64\n"
     ]
    }
   ],
   "source": [
    "print(train['age_of_respondent'].quantile(0.0))\n",
    "print(train['age_of_respondent'].quantile(0.95))\n",
    "print(train['age_of_respondent'].mode())"
   ]
  },
  {
   "cell_type": "code",
   "execution_count": 48,
   "metadata": {},
   "outputs": [
    {
     "name": "stdout",
     "output_type": "stream",
     "text": [
      "16.0\n",
      "70.0\n",
      "0    30\n",
      "dtype: int64\n"
     ]
    }
   ],
   "source": [
    "print(test['age_of_respondent'].quantile(0.0))\n",
    "print(test['age_of_respondent'].quantile(0.95))\n",
    "print(test['age_of_respondent'].mode())"
   ]
  },
  {
   "cell_type": "code",
   "execution_count": 49,
   "metadata": {},
   "outputs": [],
   "source": [
    "train['age_of_respondent'] = np.where(train['age_of_respondent'] >71.0 ,30.0 ,train['age_of_respondent'])\n",
    "test['age_of_respondent'] = np.where(test['age_of_respondent'] >70.0 ,30.0 ,test['age_of_respondent'])\n",
    "\n"
   ]
  },
  {
   "cell_type": "code",
   "execution_count": 50,
   "metadata": {},
   "outputs": [
    {
     "data": {
      "text/plain": [
       "<AxesSubplot:xlabel='household_size'>"
      ]
     },
     "execution_count": 50,
     "metadata": {},
     "output_type": "execute_result"
    },
    {
     "data": {
      "image/png": "[encoded data removed]",
      "text/plain": [
       "<Figure size 432x288 with 1 Axes>"
      ]
     },
     "metadata": {
      "needs_background": "light"
     },
     "output_type": "display_data"
    }
   ],
   "source": [
    "sns.boxplot(train['household_size'])"
   ]
  },
  {
   "cell_type": "code",
   "execution_count": 51,
   "metadata": {},
   "outputs": [
    {
     "name": "stdout",
     "output_type": "stream",
     "text": [
      "1.0\n",
      "8.0\n",
      "0    2\n",
      "dtype: int64\n"
     ]
    }
   ],
   "source": [
    "print(train['household_size'].quantile(0.0))\n",
    "print(train['household_size'].quantile(0.95))\n",
    "print(train['household_size'].mode())"
   ]
  },
  {
   "cell_type": "code",
   "execution_count": 52,
   "metadata": {},
   "outputs": [
    {
     "name": "stdout",
     "output_type": "stream",
     "text": [
      "1.0\n",
      "8.0\n",
      "0    2\n",
      "dtype: int64\n"
     ]
    }
   ],
   "source": [
    "print(test['household_size'].quantile(0.0))\n",
    "print(test['household_size'].quantile(0.95))\n",
    "print(test['household_size'].mode())"
   ]
  },
  {
   "cell_type": "code",
   "execution_count": 53,
   "metadata": {},
   "outputs": [],
   "source": [
    "train['household_size'] = np.where(train['household_size'] >8.0 ,2.0 ,train['household_size'])\n",
    "test['household_size'] = np.where(test['household_size'] >8.0 ,2.0 ,test['household_size'])\n",
    "\n"
   ]
  },
  {
   "cell_type": "code",
   "execution_count": 54,
   "metadata": {},
   "outputs": [],
   "source": [
    "## labelbinarizer and onehot encoder \n",
    "from sklearn.preprocessing import LabelBinarizer,OneHotEncoder \n",
    "\n",
    "lb = LabelBinarizer()\n",
    "ohe = OneHotEncoder()\n",
    "\n",
    "\n",
    "train['bank_account']=lb.fit_transform(train['bank_account'])\n",
    "train['location_type']= lb.fit_transform(train['location_type'])\n",
    "train['cellphone_access']=lb.fit_transform(train['cellphone_access'])\n",
    "train['gender_of_respondent'] = lb.fit_transform(train['gender_of_respondent'])"
   ]
  },
  {
   "cell_type": "code",
   "execution_count": 55,
   "metadata": {},
   "outputs": [],
   "source": [
    "\n",
    "test['location_type']= lb.fit_transform(test['location_type'])\n",
    "test['cellphone_access']=lb.fit_transform(test['cellphone_access'])\n",
    "test['gender_of_respondent'] = lb.fit_transform(test['gender_of_respondent'])"
   ]
  },
  {
   "cell_type": "code",
   "execution_count": 56,
   "metadata": {},
   "outputs": [
    {
     "data": {
      "text/html": [
       "<div>\n",
       "<style scoped>\n",
       "    .dataframe tbody tr th:only-of-type {\n",
       "        vertical-align: middle;\n",
       "    }\n",
       "\n",
       "    .dataframe tbody tr th {\n",
       "        vertical-align: top;\n",
       "    }\n",
       "\n",
       "    .dataframe thead th {\n",
       "        text-align: right;\n",
       "    }\n",
       "</style>\n",
       "<table border=\"1\" class=\"dataframe\">\n",
       "  <thead>\n",
       "    <tr style=\"text-align: right;\">\n",
       "      <th></th>\n",
       "      <th>country</th>\n",
       "      <th>uniqueid</th>\n",
       "      <th>relationship_with_head</th>\n",
       "      <th>marital_status</th>\n",
       "      <th>education_level</th>\n",
       "      <th>job_type</th>\n",
       "    </tr>\n",
       "  </thead>\n",
       "  <tbody>\n",
       "    <tr>\n",
       "      <th>count</th>\n",
       "      <td>23524</td>\n",
       "      <td>23524</td>\n",
       "      <td>23524</td>\n",
       "      <td>23524</td>\n",
       "      <td>23524</td>\n",
       "      <td>23524</td>\n",
       "    </tr>\n",
       "    <tr>\n",
       "      <th>unique</th>\n",
       "      <td>4</td>\n",
       "      <td>8735</td>\n",
       "      <td>6</td>\n",
       "      <td>5</td>\n",
       "      <td>6</td>\n",
       "      <td>10</td>\n",
       "    </tr>\n",
       "    <tr>\n",
       "      <th>top</th>\n",
       "      <td>Rwanda</td>\n",
       "      <td>uniqueid_449</td>\n",
       "      <td>Head of Household</td>\n",
       "      <td>Married/Living together</td>\n",
       "      <td>Primary education</td>\n",
       "      <td>Self employed</td>\n",
       "    </tr>\n",
       "    <tr>\n",
       "      <th>freq</th>\n",
       "      <td>8735</td>\n",
       "      <td>4</td>\n",
       "      <td>12831</td>\n",
       "      <td>10749</td>\n",
       "      <td>12791</td>\n",
       "      <td>6437</td>\n",
       "    </tr>\n",
       "  </tbody>\n",
       "</table>\n",
       "</div>"
      ],
      "text/plain": [
       "       country      uniqueid relationship_with_head           marital_status  \\\n",
       "count    23524         23524                  23524                    23524   \n",
       "unique       4          8735                      6                        5   \n",
       "top     Rwanda  uniqueid_449      Head of Household  Married/Living together   \n",
       "freq      8735             4                  12831                    10749   \n",
       "\n",
       "          education_level       job_type  \n",
       "count               23524          23524  \n",
       "unique                  6             10  \n",
       "top     Primary education  Self employed  \n",
       "freq                12791           6437  "
      ]
     },
     "execution_count": 56,
     "metadata": {},
     "output_type": "execute_result"
    }
   ],
   "source": [
    "train.describe(include=['object'])"
   ]
  },
  {
   "cell_type": "code",
   "execution_count": 57,
   "metadata": {},
   "outputs": [],
   "source": [
    "trainId =train['uniqueid']\n",
    "testCountry = test['country']\n",
    "\n",
    "testId =test['uniqueid']\n",
    "y = train['bank_account']\n",
    "\n",
    "X = train.drop(['uniqueid','bank_account'],axis=1)\n",
    "Xx =test.drop(['uniqueid'],axis=1)"
   ]
  },
  {
   "cell_type": "code",
   "execution_count": 58,
   "metadata": {},
   "outputs": [],
   "source": [
    "X1 = pd.get_dummies(X)\n",
    "Xx1 = pd.get_dummies(Xx)"
   ]
  },
  {
   "cell_type": "code",
   "execution_count": 59,
   "metadata": {},
   "outputs": [
    {
     "name": "stdout",
     "output_type": "stream",
     "text": [
      "(23524, 37)\n",
      "(10086, 37)\n"
     ]
    }
   ],
   "source": [
    "print(X1.shape)\n",
    "print(Xx1.shape)"
   ]
  },
  {
   "cell_type": "code",
   "execution_count": 60,
   "metadata": {},
   "outputs": [],
   "source": [
    "from sklearn.model_selection import train_test_split\n",
    "X_train,X_test,y_train,y_test =train_test_split(X1,y,random_state=23,test_size=0.25)"
   ]
  },
  {
   "cell_type": "code",
   "execution_count": 61,
   "metadata": {},
   "outputs": [],
   "source": [
    "from sklearn.neural_network import MLPClassifier\n",
    "from sklearn.ensemble import AdaBoostClassifier\n",
    "from sklearn.ensemble import BaggingClassifier\n",
    "from sklearn.ensemble import ExtraTreesClassifier\n",
    "from sklearn.ensemble import GradientBoostingClassifier\n",
    "from sklearn.ensemble import RandomForestClassifier\n",
    "from sklearn.ensemble import StackingClassifier\n",
    "from sklearn.ensemble import VotingClassifier\n",
    "from xgboost import XGBClassifier\n",
    "\n",
    "from sklearn.neighbors import KNeighborsClassifier\n",
    "from sklearn.tree import DecisionTreeClassifier\n",
    "from sklearn.linear_model import LogisticRegression\n",
    "\n",
    "from sklearn.metrics import accuracy_score\n",
    "from sklearn.metrics import roc_auc_score as auc\n",
    "from sklearn.metrics import classification_report\n",
    "from sklearn.metrics import precision_score\n",
    "import scikitplot as skplt\n",
    "import lightgbm as lgb\n",
    "from catboost import CatBoostClassifier\n",
    "from sklearn.svm import SVC"
   ]
  },
  {
   "cell_type": "code",
   "execution_count": 62,
   "metadata": {},
   "outputs": [],
   "source": [
    "mlp = MLPClassifier()\n",
    "adc = AdaBoostClassifier()\n",
    "etc= ExtraTreesClassifier()\n",
    "gbc =GradientBoostingClassifier()\n",
    "rfc =RandomForestClassifier()\n",
    "knn = KNeighborsClassifier()\n",
    "dtc = DecisionTreeClassifier()\n",
    "lr = LogisticRegression()\n",
    "lgbc = lgb.LGBMClassifier()\n",
    "cbc = CatBoostClassifier()\n",
    "xgbc =XGBClassifier(objective=\"binary:logistic\")\n",
    "\n",
    "estimators = [('MLPClassifier',mlp),\n",
    "              ('AdaBoostClassifier',adc),\n",
    "              ('ExtraTreesClassifier',etc),\n",
    "              ('GradientBoostingClassifier',gbc),\n",
    "              ('RandomForestClassifier',rfc),\n",
    "              ('KNeighborsClassifier',knn),\n",
    "              ('DecisionTreeClassifier',dtc),\n",
    "              ('LogisticRegression',lr),\n",
    "              ('XGBClassifier',xgbc),\n",
    "              ('LightGBMClassifier',lgbc),\n",
    "              ('CatBoostClassifier',cbc)]"
   ]
  },
  {
   "cell_type": "code",
   "execution_count": 63,
   "metadata": {},
   "outputs": [],
   "source": [
    "def model_training(X_train,X_test,y_train,y_test):\n",
    "    for e,r in estimators:\n",
    "        r.fit(X_train,y_train)\n",
    "        r_preds = r.predict(X_test)\n",
    "        print(\"*****************************************************\")\n",
    "        print(\"Accuracy score for {} is :\".format(e),accuracy_score(y_test,r_preds))\n",
    "        print(\"AUC score for {} is: \".format(e),auc(y_test,r_preds))\n",
    "        print(\"The precision score for {} is :\".format(e),precision_score(y_test, r_preds))\n",
    "        \n",
    "        print(\"*****************************************************\")\n",
    "        print(\"\\n\")\n",
    "        \n"
   ]
  },
  {
   "cell_type": "code",
   "execution_count": 64,
   "metadata": {},
   "outputs": [
    {
     "name": "stdout",
     "output_type": "stream",
     "text": [
      "*****************************************************\n",
      "Accuracy score for MLPClassifier is : 0.8490052712123789\n",
      "AUC score for MLPClassifier is:  0.7295427982390521\n",
      "The precision score for MLPClassifier is : 0.4949596774193548\n",
      "*****************************************************\n",
      "\n",
      "\n",
      "*****************************************************\n",
      "Accuracy score for AdaBoostClassifier is : 0.8770617241965653\n",
      "AUC score for AdaBoostClassifier is:  0.6535343031083399\n",
      "The precision score for AdaBoostClassifier is : 0.6789838337182448\n",
      "*****************************************************\n",
      "\n",
      "\n",
      "*****************************************************\n",
      "Accuracy score for ExtraTreesClassifier is : 0.8449243325964972\n",
      "AUC score for ExtraTreesClassifier is:  0.6604701188398578\n",
      "The precision score for ExtraTreesClassifier is : 0.476775956284153\n",
      "*****************************************************\n",
      "\n",
      "\n",
      "*****************************************************\n",
      "Accuracy score for GradientBoostingClassifier is : 0.8811426628124469\n",
      "AUC score for GradientBoostingClassifier is:  0.656402400017848\n",
      "The precision score for GradientBoostingClassifier is : 0.7177615571776156\n",
      "*****************************************************\n",
      "\n",
      "\n",
      "*****************************************************\n",
      "Accuracy score for RandomForestClassifier is : 0.854276483591226\n",
      "AUC score for RandomForestClassifier is:  0.6570456359441738\n",
      "The precision score for RandomForestClassifier is : 0.5164319248826291\n",
      "*****************************************************\n",
      "\n",
      "\n",
      "*****************************************************\n",
      "Accuracy score for KNeighborsClassifier is : 0.8602278524060534\n",
      "AUC score for KNeighborsClassifier is:  0.6079555000484903\n",
      "The precision score for KNeighborsClassifier is : 0.5736842105263158\n",
      "*****************************************************\n",
      "\n",
      "\n",
      "*****************************************************\n",
      "Accuracy score for DecisionTreeClassifier is : 0.8183982315932664\n",
      "AUC score for DecisionTreeClassifier is:  0.6354887523067025\n",
      "The precision score for DecisionTreeClassifier is : 0.38797169811320753\n",
      "*****************************************************\n",
      "\n",
      "\n",
      "*****************************************************\n",
      "Accuracy score for LogisticRegression is : 0.8779119197415406\n",
      "AUC score for LogisticRegression is:  0.663424724208755\n",
      "The precision score for LogisticRegression is : 0.6709401709401709\n",
      "*****************************************************\n",
      "\n",
      "\n",
      "[13:35:08] WARNING: C:/Users/Administrator/workspace/xgboost-win64_release_1.3.0/src/learner.cc:1061: Starting in XGBoost 1.3.0, the default evaluation metric used with the objective 'binary:logistic' was changed from 'error' to 'logloss'. Explicitly set eval_metric if you'd like to restore the old behavior.\n",
      "*****************************************************\n",
      "Accuracy score for XGBClassifier is : 0.8753613331066146\n",
      "AUC score for XGBClassifier is:  0.6670905201753662\n",
      "The precision score for XGBClassifier is : 0.6435643564356436\n",
      "*****************************************************\n",
      "\n",
      "\n",
      "*****************************************************\n",
      "Accuracy score for LightGBMClassifier is : 0.8777418806325454\n",
      "AUC score for LightGBMClassifier is:  0.6670810725409857\n",
      "The precision score for LightGBMClassifier is : 0.6639175257731958\n",
      "*****************************************************\n",
      "\n",
      "\n",
      "Learning rate set to 0.035093\n",
      "0:\tlearn: 0.6545384\ttotal: 204ms\tremaining: 3m 23s\n",
      "1:\tlearn: 0.6263079\ttotal: 219ms\tremaining: 1m 49s\n",
      "2:\tlearn: 0.5992868\ttotal: 233ms\tremaining: 1m 17s\n",
      "3:\tlearn: 0.5716619\ttotal: 246ms\tremaining: 1m 1s\n",
      "4:\tlearn: 0.5513760\ttotal: 258ms\tremaining: 51.4s\n",
      "5:\tlearn: 0.5278926\ttotal: 273ms\tremaining: 45.3s\n",
      "6:\tlearn: 0.5111912\ttotal: 287ms\tremaining: 40.8s\n",
      "7:\tlearn: 0.4936429\ttotal: 300ms\tremaining: 37.1s\n",
      "8:\tlearn: 0.4760940\ttotal: 312ms\tremaining: 34.3s\n",
      "9:\tlearn: 0.4611755\ttotal: 323ms\tremaining: 31.9s\n",
      "10:\tlearn: 0.4473455\ttotal: 331ms\tremaining: 29.8s\n",
      "11:\tlearn: 0.4366826\ttotal: 340ms\tremaining: 28s\n",
      "12:\tlearn: 0.4260597\ttotal: 349ms\tremaining: 26.5s\n",
      "13:\tlearn: 0.4151929\ttotal: 357ms\tremaining: 25.1s\n",
      "14:\tlearn: 0.4070512\ttotal: 364ms\tremaining: 23.9s\n",
      "15:\tlearn: 0.3972781\ttotal: 372ms\tremaining: 22.9s\n",
      "16:\tlearn: 0.3891331\ttotal: 381ms\tremaining: 22s\n",
      "17:\tlearn: 0.3841914\ttotal: 387ms\tremaining: 21.1s\n",
      "18:\tlearn: 0.3779796\ttotal: 396ms\tremaining: 20.4s\n",
      "19:\tlearn: 0.3713685\ttotal: 404ms\tremaining: 19.8s\n",
      "20:\tlearn: 0.3664059\ttotal: 412ms\tremaining: 19.2s\n",
      "21:\tlearn: 0.3607910\ttotal: 421ms\tremaining: 18.7s\n",
      "22:\tlearn: 0.3547941\ttotal: 430ms\tremaining: 18.3s\n",
      "23:\tlearn: 0.3499600\ttotal: 438ms\tremaining: 17.8s\n",
      "24:\tlearn: 0.3449246\ttotal: 446ms\tremaining: 17.4s\n",
      "25:\tlearn: 0.3417156\ttotal: 453ms\tremaining: 17s\n",
      "26:\tlearn: 0.3376494\ttotal: 461ms\tremaining: 16.6s\n",
      "27:\tlearn: 0.3346396\ttotal: 469ms\tremaining: 16.3s\n",
      "28:\tlearn: 0.3305596\ttotal: 477ms\tremaining: 16s\n",
      "29:\tlearn: 0.3279272\ttotal: 485ms\tremaining: 15.7s\n",
      "30:\tlearn: 0.3255606\ttotal: 492ms\tremaining: 15.4s\n",
      "31:\tlearn: 0.3229074\ttotal: 499ms\tremaining: 15.1s\n",
      "32:\tlearn: 0.3209798\ttotal: 507ms\tremaining: 14.8s\n",
      "33:\tlearn: 0.3185276\ttotal: 515ms\tremaining: 14.6s\n",
      "34:\tlearn: 0.3162645\ttotal: 522ms\tremaining: 14.4s\n",
      "35:\tlearn: 0.3138733\ttotal: 530ms\tremaining: 14.2s\n",
      "36:\tlearn: 0.3120060\ttotal: 537ms\tremaining: 14s\n",
      "37:\tlearn: 0.3102958\ttotal: 545ms\tremaining: 13.8s\n",
      "38:\tlearn: 0.3078007\ttotal: 553ms\tremaining: 13.6s\n",
      "39:\tlearn: 0.3061824\ttotal: 563ms\tremaining: 13.5s\n",
      "40:\tlearn: 0.3048633\ttotal: 573ms\tremaining: 13.4s\n",
      "41:\tlearn: 0.3033261\ttotal: 582ms\tremaining: 13.3s\n",
      "42:\tlearn: 0.3018153\ttotal: 590ms\tremaining: 13.1s\n",
      "43:\tlearn: 0.3003889\ttotal: 599ms\tremaining: 13s\n",
      "44:\tlearn: 0.2992449\ttotal: 607ms\tremaining: 12.9s\n",
      "45:\tlearn: 0.2982952\ttotal: 616ms\tremaining: 12.8s\n",
      "46:\tlearn: 0.2972567\ttotal: 623ms\tremaining: 12.6s\n",
      "47:\tlearn: 0.2961662\ttotal: 632ms\tremaining: 12.5s\n",
      "48:\tlearn: 0.2953860\ttotal: 640ms\tremaining: 12.4s\n",
      "49:\tlearn: 0.2941407\ttotal: 648ms\tremaining: 12.3s\n",
      "50:\tlearn: 0.2934454\ttotal: 657ms\tremaining: 12.2s\n",
      "51:\tlearn: 0.2922329\ttotal: 665ms\tremaining: 12.1s\n",
      "52:\tlearn: 0.2911193\ttotal: 673ms\tremaining: 12s\n",
      "53:\tlearn: 0.2903158\ttotal: 683ms\tremaining: 12s\n",
      "54:\tlearn: 0.2897699\ttotal: 690ms\tremaining: 11.9s\n",
      "55:\tlearn: 0.2891596\ttotal: 698ms\tremaining: 11.8s\n",
      "56:\tlearn: 0.2885310\ttotal: 706ms\tremaining: 11.7s\n",
      "57:\tlearn: 0.2879258\ttotal: 713ms\tremaining: 11.6s\n",
      "58:\tlearn: 0.2871983\ttotal: 722ms\tremaining: 11.5s\n",
      "59:\tlearn: 0.2865690\ttotal: 729ms\tremaining: 11.4s\n",
      "60:\tlearn: 0.2859071\ttotal: 737ms\tremaining: 11.3s\n",
      "61:\tlearn: 0.2852802\ttotal: 746ms\tremaining: 11.3s\n",
      "62:\tlearn: 0.2849119\ttotal: 756ms\tremaining: 11.2s\n",
      "63:\tlearn: 0.2844954\ttotal: 764ms\tremaining: 11.2s\n",
      "64:\tlearn: 0.2838535\ttotal: 772ms\tremaining: 11.1s\n",
      "65:\tlearn: 0.2834291\ttotal: 780ms\tremaining: 11s\n",
      "66:\tlearn: 0.2831108\ttotal: 791ms\tremaining: 11s\n",
      "67:\tlearn: 0.2826389\ttotal: 799ms\tremaining: 11s\n",
      "68:\tlearn: 0.2821437\ttotal: 807ms\tremaining: 10.9s\n",
      "69:\tlearn: 0.2814522\ttotal: 815ms\tremaining: 10.8s\n",
      "70:\tlearn: 0.2811720\ttotal: 822ms\tremaining: 10.8s\n",
      "71:\tlearn: 0.2807152\ttotal: 830ms\tremaining: 10.7s\n",
      "72:\tlearn: 0.2803913\ttotal: 839ms\tremaining: 10.7s\n",
      "73:\tlearn: 0.2799025\ttotal: 846ms\tremaining: 10.6s\n",
      "74:\tlearn: 0.2794725\ttotal: 854ms\tremaining: 10.5s\n",
      "75:\tlearn: 0.2791632\ttotal: 861ms\tremaining: 10.5s\n",
      "76:\tlearn: 0.2788725\ttotal: 869ms\tremaining: 10.4s\n",
      "77:\tlearn: 0.2784547\ttotal: 878ms\tremaining: 10.4s\n",
      "78:\tlearn: 0.2780335\ttotal: 885ms\tremaining: 10.3s\n",
      "79:\tlearn: 0.2774931\ttotal: 893ms\tremaining: 10.3s\n",
      "80:\tlearn: 0.2771570\ttotal: 902ms\tremaining: 10.2s\n",
      "81:\tlearn: 0.2766765\ttotal: 910ms\tremaining: 10.2s\n",
      "82:\tlearn: 0.2763726\ttotal: 919ms\tremaining: 10.1s\n",
      "83:\tlearn: 0.2761366\ttotal: 926ms\tremaining: 10.1s\n",
      "84:\tlearn: 0.2758865\ttotal: 936ms\tremaining: 10.1s\n",
      "85:\tlearn: 0.2754292\ttotal: 944ms\tremaining: 10s\n",
      "86:\tlearn: 0.2751769\ttotal: 951ms\tremaining: 9.98s\n",
      "87:\tlearn: 0.2749629\ttotal: 959ms\tremaining: 9.94s\n",
      "88:\tlearn: 0.2745802\ttotal: 967ms\tremaining: 9.9s\n",
      "89:\tlearn: 0.2742042\ttotal: 975ms\tremaining: 9.85s\n",
      "90:\tlearn: 0.2740183\ttotal: 982ms\tremaining: 9.81s\n",
      "91:\tlearn: 0.2739000\ttotal: 990ms\tremaining: 9.77s\n",
      "92:\tlearn: 0.2735812\ttotal: 998ms\tremaining: 9.73s\n",
      "93:\tlearn: 0.2733481\ttotal: 1s\tremaining: 9.69s\n",
      "94:\tlearn: 0.2731641\ttotal: 1.01s\tremaining: 9.64s\n",
      "95:\tlearn: 0.2730031\ttotal: 1.02s\tremaining: 9.6s\n",
      "96:\tlearn: 0.2727152\ttotal: 1.03s\tremaining: 9.56s\n",
      "97:\tlearn: 0.2725092\ttotal: 1.03s\tremaining: 9.52s\n",
      "98:\tlearn: 0.2722636\ttotal: 1.04s\tremaining: 9.48s\n",
      "99:\tlearn: 0.2720894\ttotal: 1.05s\tremaining: 9.44s\n",
      "100:\tlearn: 0.2718331\ttotal: 1.06s\tremaining: 9.42s\n",
      "101:\tlearn: 0.2715737\ttotal: 1.06s\tremaining: 9.38s\n",
      "102:\tlearn: 0.2713659\ttotal: 1.07s\tremaining: 9.35s\n",
      "103:\tlearn: 0.2711556\ttotal: 1.08s\tremaining: 9.32s\n",
      "104:\tlearn: 0.2710350\ttotal: 1.09s\tremaining: 9.28s\n",
      "105:\tlearn: 0.2708738\ttotal: 1.1s\tremaining: 9.25s\n",
      "106:\tlearn: 0.2705740\ttotal: 1.1s\tremaining: 9.22s\n"
     ]
    },
    {
     "name": "stdout",
     "output_type": "stream",
     "text": [
      "107:\tlearn: 0.2703406\ttotal: 1.11s\tremaining: 9.2s\n",
      "108:\tlearn: 0.2701593\ttotal: 1.12s\tremaining: 9.17s\n",
      "109:\tlearn: 0.2699980\ttotal: 1.13s\tremaining: 9.14s\n",
      "110:\tlearn: 0.2698816\ttotal: 1.14s\tremaining: 9.1s\n",
      "111:\tlearn: 0.2696887\ttotal: 1.14s\tremaining: 9.07s\n",
      "112:\tlearn: 0.2694888\ttotal: 1.15s\tremaining: 9.04s\n",
      "113:\tlearn: 0.2693152\ttotal: 1.16s\tremaining: 9.01s\n",
      "114:\tlearn: 0.2691649\ttotal: 1.17s\tremaining: 8.97s\n",
      "115:\tlearn: 0.2689320\ttotal: 1.17s\tremaining: 8.95s\n",
      "116:\tlearn: 0.2688074\ttotal: 1.18s\tremaining: 8.91s\n",
      "117:\tlearn: 0.2686899\ttotal: 1.19s\tremaining: 8.89s\n",
      "118:\tlearn: 0.2685594\ttotal: 1.2s\tremaining: 8.86s\n",
      "119:\tlearn: 0.2683692\ttotal: 1.2s\tremaining: 8.83s\n",
      "120:\tlearn: 0.2681639\ttotal: 1.21s\tremaining: 8.8s\n",
      "121:\tlearn: 0.2680402\ttotal: 1.22s\tremaining: 8.79s\n",
      "122:\tlearn: 0.2679073\ttotal: 1.23s\tremaining: 8.76s\n",
      "123:\tlearn: 0.2677882\ttotal: 1.24s\tremaining: 8.73s\n",
      "124:\tlearn: 0.2675874\ttotal: 1.24s\tremaining: 8.71s\n",
      "125:\tlearn: 0.2674521\ttotal: 1.25s\tremaining: 8.68s\n",
      "126:\tlearn: 0.2673312\ttotal: 1.26s\tremaining: 8.65s\n",
      "127:\tlearn: 0.2671702\ttotal: 1.27s\tremaining: 8.63s\n",
      "128:\tlearn: 0.2670233\ttotal: 1.27s\tremaining: 8.6s\n",
      "129:\tlearn: 0.2669543\ttotal: 1.28s\tremaining: 8.57s\n",
      "130:\tlearn: 0.2668484\ttotal: 1.29s\tremaining: 8.56s\n",
      "131:\tlearn: 0.2667359\ttotal: 1.3s\tremaining: 8.53s\n",
      "132:\tlearn: 0.2666443\ttotal: 1.3s\tremaining: 8.51s\n",
      "133:\tlearn: 0.2665166\ttotal: 1.31s\tremaining: 8.49s\n",
      "134:\tlearn: 0.2663966\ttotal: 1.32s\tremaining: 8.46s\n",
      "135:\tlearn: 0.2662903\ttotal: 1.33s\tremaining: 8.43s\n",
      "136:\tlearn: 0.2661718\ttotal: 1.33s\tremaining: 8.41s\n",
      "137:\tlearn: 0.2660681\ttotal: 1.34s\tremaining: 8.39s\n",
      "138:\tlearn: 0.2659671\ttotal: 1.35s\tremaining: 8.37s\n",
      "139:\tlearn: 0.2658080\ttotal: 1.36s\tremaining: 8.34s\n",
      "140:\tlearn: 0.2656221\ttotal: 1.36s\tremaining: 8.32s\n",
      "141:\tlearn: 0.2655381\ttotal: 1.37s\tremaining: 8.3s\n",
      "142:\tlearn: 0.2654181\ttotal: 1.38s\tremaining: 8.28s\n",
      "143:\tlearn: 0.2652838\ttotal: 1.39s\tremaining: 8.26s\n",
      "144:\tlearn: 0.2651693\ttotal: 1.4s\tremaining: 8.24s\n",
      "145:\tlearn: 0.2651110\ttotal: 1.41s\tremaining: 8.22s\n",
      "146:\tlearn: 0.2649952\ttotal: 1.41s\tremaining: 8.2s\n",
      "147:\tlearn: 0.2649386\ttotal: 1.42s\tremaining: 8.17s\n",
      "148:\tlearn: 0.2647980\ttotal: 1.43s\tremaining: 8.16s\n",
      "149:\tlearn: 0.2646824\ttotal: 1.44s\tremaining: 8.13s\n",
      "150:\tlearn: 0.2645866\ttotal: 1.44s\tremaining: 8.11s\n",
      "151:\tlearn: 0.2645186\ttotal: 1.45s\tremaining: 8.09s\n",
      "152:\tlearn: 0.2644672\ttotal: 1.46s\tremaining: 8.06s\n",
      "153:\tlearn: 0.2643806\ttotal: 1.47s\tremaining: 8.05s\n",
      "154:\tlearn: 0.2642778\ttotal: 1.47s\tremaining: 8.04s\n",
      "155:\tlearn: 0.2641591\ttotal: 1.48s\tremaining: 8.02s\n",
      "156:\tlearn: 0.2640290\ttotal: 1.49s\tremaining: 8s\n",
      "157:\tlearn: 0.2639528\ttotal: 1.5s\tremaining: 7.98s\n",
      "158:\tlearn: 0.2638204\ttotal: 1.5s\tremaining: 7.96s\n",
      "159:\tlearn: 0.2637513\ttotal: 1.51s\tremaining: 7.94s\n",
      "160:\tlearn: 0.2636791\ttotal: 1.52s\tremaining: 7.93s\n",
      "161:\tlearn: 0.2635730\ttotal: 1.53s\tremaining: 7.92s\n",
      "162:\tlearn: 0.2634278\ttotal: 1.54s\tremaining: 7.91s\n",
      "163:\tlearn: 0.2632953\ttotal: 1.55s\tremaining: 7.89s\n",
      "164:\tlearn: 0.2631753\ttotal: 1.55s\tremaining: 7.87s\n",
      "165:\tlearn: 0.2630727\ttotal: 1.56s\tremaining: 7.85s\n",
      "166:\tlearn: 0.2630161\ttotal: 1.57s\tremaining: 7.84s\n",
      "167:\tlearn: 0.2628683\ttotal: 1.58s\tremaining: 7.82s\n",
      "168:\tlearn: 0.2627632\ttotal: 1.59s\tremaining: 7.8s\n",
      "169:\tlearn: 0.2627026\ttotal: 1.59s\tremaining: 7.78s\n",
      "170:\tlearn: 0.2625410\ttotal: 1.6s\tremaining: 7.77s\n",
      "171:\tlearn: 0.2624020\ttotal: 1.61s\tremaining: 7.75s\n",
      "172:\tlearn: 0.2623008\ttotal: 1.62s\tremaining: 7.73s\n",
      "173:\tlearn: 0.2621637\ttotal: 1.62s\tremaining: 7.71s\n",
      "174:\tlearn: 0.2620183\ttotal: 1.63s\tremaining: 7.7s\n",
      "175:\tlearn: 0.2619272\ttotal: 1.64s\tremaining: 7.68s\n",
      "176:\tlearn: 0.2618398\ttotal: 1.65s\tremaining: 7.66s\n",
      "177:\tlearn: 0.2616650\ttotal: 1.66s\tremaining: 7.64s\n",
      "178:\tlearn: 0.2615768\ttotal: 1.66s\tremaining: 7.63s\n",
      "179:\tlearn: 0.2615051\ttotal: 1.67s\tremaining: 7.61s\n",
      "180:\tlearn: 0.2614429\ttotal: 1.68s\tremaining: 7.59s\n",
      "181:\tlearn: 0.2613282\ttotal: 1.68s\tremaining: 7.57s\n",
      "182:\tlearn: 0.2612595\ttotal: 1.69s\tremaining: 7.56s\n",
      "183:\tlearn: 0.2611708\ttotal: 1.7s\tremaining: 7.54s\n",
      "184:\tlearn: 0.2610956\ttotal: 1.71s\tremaining: 7.53s\n",
      "185:\tlearn: 0.2610242\ttotal: 1.72s\tremaining: 7.5s\n",
      "186:\tlearn: 0.2608873\ttotal: 1.72s\tremaining: 7.49s\n",
      "187:\tlearn: 0.2607502\ttotal: 1.73s\tremaining: 7.47s\n",
      "188:\tlearn: 0.2606967\ttotal: 1.74s\tremaining: 7.46s\n",
      "189:\tlearn: 0.2605894\ttotal: 1.75s\tremaining: 7.44s\n",
      "190:\tlearn: 0.2604587\ttotal: 1.75s\tremaining: 7.42s\n",
      "191:\tlearn: 0.2603995\ttotal: 1.76s\tremaining: 7.41s\n",
      "192:\tlearn: 0.2602704\ttotal: 1.77s\tremaining: 7.39s\n",
      "193:\tlearn: 0.2601340\ttotal: 1.77s\tremaining: 7.38s\n",
      "194:\tlearn: 0.2600658\ttotal: 1.78s\tremaining: 7.36s\n",
      "195:\tlearn: 0.2599653\ttotal: 1.79s\tremaining: 7.34s\n",
      "196:\tlearn: 0.2598400\ttotal: 1.8s\tremaining: 7.32s\n",
      "197:\tlearn: 0.2598270\ttotal: 1.8s\tremaining: 7.3s\n",
      "198:\tlearn: 0.2597783\ttotal: 1.81s\tremaining: 7.28s\n",
      "199:\tlearn: 0.2597328\ttotal: 1.81s\tremaining: 7.26s\n",
      "200:\tlearn: 0.2596241\ttotal: 1.82s\tremaining: 7.25s\n",
      "201:\tlearn: 0.2595333\ttotal: 1.83s\tremaining: 7.24s\n",
      "202:\tlearn: 0.2594802\ttotal: 1.84s\tremaining: 7.22s\n",
      "203:\tlearn: 0.2593805\ttotal: 1.85s\tremaining: 7.21s\n",
      "204:\tlearn: 0.2592774\ttotal: 1.85s\tremaining: 7.2s\n",
      "205:\tlearn: 0.2591923\ttotal: 1.86s\tremaining: 7.18s\n",
      "206:\tlearn: 0.2591044\ttotal: 1.87s\tremaining: 7.17s\n",
      "207:\tlearn: 0.2590249\ttotal: 1.88s\tremaining: 7.16s\n",
      "208:\tlearn: 0.2589768\ttotal: 1.89s\tremaining: 7.15s\n",
      "209:\tlearn: 0.2589006\ttotal: 1.9s\tremaining: 7.13s\n",
      "210:\tlearn: 0.2588653\ttotal: 1.9s\tremaining: 7.12s\n",
      "211:\tlearn: 0.2587920\ttotal: 1.91s\tremaining: 7.11s\n",
      "212:\tlearn: 0.2587310\ttotal: 1.92s\tremaining: 7.09s\n",
      "213:\tlearn: 0.2586656\ttotal: 1.93s\tremaining: 7.08s\n",
      "214:\tlearn: 0.2586105\ttotal: 1.93s\tremaining: 7.06s\n",
      "215:\tlearn: 0.2585722\ttotal: 1.94s\tremaining: 7.05s\n",
      "216:\tlearn: 0.2585292\ttotal: 1.95s\tremaining: 7.03s\n",
      "217:\tlearn: 0.2584071\ttotal: 1.96s\tremaining: 7.02s\n",
      "218:\tlearn: 0.2583369\ttotal: 1.96s\tremaining: 7.01s\n",
      "219:\tlearn: 0.2582506\ttotal: 1.97s\tremaining: 6.99s\n",
      "220:\tlearn: 0.2581948\ttotal: 1.98s\tremaining: 6.98s\n",
      "221:\tlearn: 0.2581098\ttotal: 1.99s\tremaining: 6.96s\n",
      "222:\tlearn: 0.2580513\ttotal: 1.99s\tremaining: 6.95s\n",
      "223:\tlearn: 0.2579049\ttotal: 2s\tremaining: 6.94s\n",
      "224:\tlearn: 0.2578260\ttotal: 2.01s\tremaining: 6.93s\n",
      "225:\tlearn: 0.2578147\ttotal: 2.02s\tremaining: 6.91s\n",
      "226:\tlearn: 0.2577341\ttotal: 2.02s\tremaining: 6.9s\n",
      "227:\tlearn: 0.2576199\ttotal: 2.03s\tremaining: 6.88s\n",
      "228:\tlearn: 0.2575695\ttotal: 2.04s\tremaining: 6.87s\n",
      "229:\tlearn: 0.2575114\ttotal: 2.05s\tremaining: 6.85s\n",
      "230:\tlearn: 0.2573875\ttotal: 2.05s\tremaining: 6.84s\n",
      "231:\tlearn: 0.2573229\ttotal: 2.06s\tremaining: 6.83s\n",
      "232:\tlearn: 0.2572798\ttotal: 2.07s\tremaining: 6.81s\n",
      "233:\tlearn: 0.2572255\ttotal: 2.08s\tremaining: 6.8s\n",
      "234:\tlearn: 0.2571518\ttotal: 2.08s\tremaining: 6.79s\n",
      "235:\tlearn: 0.2570602\ttotal: 2.09s\tremaining: 6.77s\n",
      "236:\tlearn: 0.2569836\ttotal: 2.1s\tremaining: 6.76s\n",
      "237:\tlearn: 0.2569261\ttotal: 2.11s\tremaining: 6.75s\n",
      "238:\tlearn: 0.2568042\ttotal: 2.11s\tremaining: 6.73s\n",
      "239:\tlearn: 0.2567363\ttotal: 2.12s\tremaining: 6.72s\n",
      "240:\tlearn: 0.2566478\ttotal: 2.13s\tremaining: 6.7s\n",
      "241:\tlearn: 0.2565467\ttotal: 2.14s\tremaining: 6.69s\n",
      "242:\tlearn: 0.2564783\ttotal: 2.14s\tremaining: 6.68s\n",
      "243:\tlearn: 0.2564269\ttotal: 2.15s\tremaining: 6.66s\n",
      "244:\tlearn: 0.2563864\ttotal: 2.16s\tremaining: 6.65s\n",
      "245:\tlearn: 0.2562903\ttotal: 2.17s\tremaining: 6.64s\n",
      "246:\tlearn: 0.2562158\ttotal: 2.17s\tremaining: 6.63s\n",
      "247:\tlearn: 0.2560839\ttotal: 2.18s\tremaining: 6.62s\n",
      "248:\tlearn: 0.2560459\ttotal: 2.19s\tremaining: 6.61s\n",
      "249:\tlearn: 0.2559794\ttotal: 2.2s\tremaining: 6.6s\n",
      "250:\tlearn: 0.2559198\ttotal: 2.21s\tremaining: 6.58s\n",
      "251:\tlearn: 0.2558753\ttotal: 2.21s\tremaining: 6.57s\n",
      "252:\tlearn: 0.2558077\ttotal: 2.22s\tremaining: 6.56s\n",
      "253:\tlearn: 0.2556888\ttotal: 2.23s\tremaining: 6.54s\n",
      "254:\tlearn: 0.2556364\ttotal: 2.23s\tremaining: 6.53s\n",
      "255:\tlearn: 0.2555611\ttotal: 2.24s\tremaining: 6.52s\n",
      "256:\tlearn: 0.2554693\ttotal: 2.25s\tremaining: 6.5s\n",
      "257:\tlearn: 0.2553730\ttotal: 2.26s\tremaining: 6.49s\n",
      "258:\tlearn: 0.2552983\ttotal: 2.27s\tremaining: 6.48s\n",
      "259:\tlearn: 0.2552387\ttotal: 2.27s\tremaining: 6.47s\n",
      "260:\tlearn: 0.2551582\ttotal: 2.28s\tremaining: 6.45s\n",
      "261:\tlearn: 0.2550946\ttotal: 2.29s\tremaining: 6.44s\n",
      "262:\tlearn: 0.2550347\ttotal: 2.29s\tremaining: 6.43s\n",
      "263:\tlearn: 0.2549475\ttotal: 2.3s\tremaining: 6.42s\n",
      "264:\tlearn: 0.2548514\ttotal: 2.31s\tremaining: 6.4s\n",
      "265:\tlearn: 0.2547551\ttotal: 2.31s\tremaining: 6.39s\n",
      "266:\tlearn: 0.2546789\ttotal: 2.32s\tremaining: 6.38s\n",
      "267:\tlearn: 0.2546134\ttotal: 2.33s\tremaining: 6.37s\n",
      "268:\tlearn: 0.2545223\ttotal: 2.34s\tremaining: 6.36s\n",
      "269:\tlearn: 0.2544431\ttotal: 2.35s\tremaining: 6.34s\n"
     ]
    },
    {
     "name": "stdout",
     "output_type": "stream",
     "text": [
      "270:\tlearn: 0.2543596\ttotal: 2.35s\tremaining: 6.33s\n",
      "271:\tlearn: 0.2542706\ttotal: 2.36s\tremaining: 6.32s\n",
      "272:\tlearn: 0.2542287\ttotal: 2.37s\tremaining: 6.31s\n",
      "273:\tlearn: 0.2541592\ttotal: 2.38s\tremaining: 6.3s\n",
      "274:\tlearn: 0.2541308\ttotal: 2.38s\tremaining: 6.29s\n",
      "275:\tlearn: 0.2540754\ttotal: 2.39s\tremaining: 6.28s\n",
      "276:\tlearn: 0.2539890\ttotal: 2.4s\tremaining: 6.26s\n",
      "277:\tlearn: 0.2538723\ttotal: 2.41s\tremaining: 6.25s\n",
      "278:\tlearn: 0.2538087\ttotal: 2.42s\tremaining: 6.24s\n",
      "279:\tlearn: 0.2537081\ttotal: 2.42s\tremaining: 6.23s\n",
      "280:\tlearn: 0.2536120\ttotal: 2.43s\tremaining: 6.22s\n",
      "281:\tlearn: 0.2535270\ttotal: 2.44s\tremaining: 6.21s\n",
      "282:\tlearn: 0.2534580\ttotal: 2.44s\tremaining: 6.19s\n",
      "283:\tlearn: 0.2533883\ttotal: 2.45s\tremaining: 6.18s\n",
      "284:\tlearn: 0.2533070\ttotal: 2.46s\tremaining: 6.17s\n",
      "285:\tlearn: 0.2532463\ttotal: 2.47s\tremaining: 6.17s\n",
      "286:\tlearn: 0.2531865\ttotal: 2.48s\tremaining: 6.16s\n",
      "287:\tlearn: 0.2530947\ttotal: 2.49s\tremaining: 6.15s\n",
      "288:\tlearn: 0.2529947\ttotal: 2.49s\tremaining: 6.13s\n",
      "289:\tlearn: 0.2528541\ttotal: 2.5s\tremaining: 6.13s\n",
      "290:\tlearn: 0.2528085\ttotal: 2.51s\tremaining: 6.12s\n",
      "291:\tlearn: 0.2527421\ttotal: 2.52s\tremaining: 6.1s\n",
      "292:\tlearn: 0.2526770\ttotal: 2.52s\tremaining: 6.09s\n",
      "293:\tlearn: 0.2526216\ttotal: 2.53s\tremaining: 6.08s\n",
      "294:\tlearn: 0.2525536\ttotal: 2.54s\tremaining: 6.08s\n",
      "295:\tlearn: 0.2524710\ttotal: 2.55s\tremaining: 6.06s\n",
      "296:\tlearn: 0.2524490\ttotal: 2.56s\tremaining: 6.05s\n",
      "297:\tlearn: 0.2523759\ttotal: 2.56s\tremaining: 6.04s\n",
      "298:\tlearn: 0.2523034\ttotal: 2.57s\tremaining: 6.03s\n",
      "299:\tlearn: 0.2522149\ttotal: 2.58s\tremaining: 6.02s\n",
      "300:\tlearn: 0.2521602\ttotal: 2.59s\tremaining: 6.01s\n",
      "301:\tlearn: 0.2521161\ttotal: 2.59s\tremaining: 6s\n",
      "302:\tlearn: 0.2520763\ttotal: 2.6s\tremaining: 5.99s\n",
      "303:\tlearn: 0.2520135\ttotal: 2.61s\tremaining: 5.97s\n",
      "304:\tlearn: 0.2519553\ttotal: 2.62s\tremaining: 5.96s\n",
      "305:\tlearn: 0.2518735\ttotal: 2.63s\tremaining: 5.95s\n",
      "306:\tlearn: 0.2518111\ttotal: 2.63s\tremaining: 5.94s\n",
      "307:\tlearn: 0.2517223\ttotal: 2.64s\tremaining: 5.93s\n",
      "308:\tlearn: 0.2516676\ttotal: 2.65s\tremaining: 5.92s\n",
      "309:\tlearn: 0.2516028\ttotal: 2.66s\tremaining: 5.91s\n",
      "310:\tlearn: 0.2515376\ttotal: 2.66s\tremaining: 5.9s\n",
      "311:\tlearn: 0.2514258\ttotal: 2.67s\tremaining: 5.89s\n",
      "312:\tlearn: 0.2513352\ttotal: 2.68s\tremaining: 5.88s\n",
      "313:\tlearn: 0.2512806\ttotal: 2.69s\tremaining: 5.87s\n",
      "314:\tlearn: 0.2511631\ttotal: 2.7s\tremaining: 5.86s\n",
      "315:\tlearn: 0.2510945\ttotal: 2.71s\tremaining: 5.86s\n",
      "316:\tlearn: 0.2510264\ttotal: 2.71s\tremaining: 5.84s\n",
      "317:\tlearn: 0.2509396\ttotal: 2.72s\tremaining: 5.83s\n",
      "318:\tlearn: 0.2508818\ttotal: 2.73s\tremaining: 5.82s\n",
      "319:\tlearn: 0.2507835\ttotal: 2.74s\tremaining: 5.82s\n",
      "320:\tlearn: 0.2507368\ttotal: 2.74s\tremaining: 5.8s\n",
      "321:\tlearn: 0.2506648\ttotal: 2.75s\tremaining: 5.79s\n",
      "322:\tlearn: 0.2505868\ttotal: 2.76s\tremaining: 5.78s\n",
      "323:\tlearn: 0.2504626\ttotal: 2.77s\tremaining: 5.77s\n",
      "324:\tlearn: 0.2503925\ttotal: 2.77s\tremaining: 5.76s\n",
      "325:\tlearn: 0.2502836\ttotal: 2.78s\tremaining: 5.75s\n",
      "326:\tlearn: 0.2502420\ttotal: 2.79s\tremaining: 5.74s\n",
      "327:\tlearn: 0.2501989\ttotal: 2.79s\tremaining: 5.73s\n",
      "328:\tlearn: 0.2500843\ttotal: 2.8s\tremaining: 5.72s\n",
      "329:\tlearn: 0.2500332\ttotal: 2.81s\tremaining: 5.71s\n",
      "330:\tlearn: 0.2499722\ttotal: 2.82s\tremaining: 5.7s\n",
      "331:\tlearn: 0.2499259\ttotal: 2.83s\tremaining: 5.69s\n",
      "332:\tlearn: 0.2498188\ttotal: 2.84s\tremaining: 5.68s\n",
      "333:\tlearn: 0.2497190\ttotal: 2.84s\tremaining: 5.67s\n",
      "334:\tlearn: 0.2496203\ttotal: 2.85s\tremaining: 5.66s\n",
      "335:\tlearn: 0.2495763\ttotal: 2.86s\tremaining: 5.65s\n",
      "336:\tlearn: 0.2495331\ttotal: 2.87s\tremaining: 5.64s\n",
      "337:\tlearn: 0.2494506\ttotal: 2.87s\tremaining: 5.63s\n",
      "338:\tlearn: 0.2493948\ttotal: 2.88s\tremaining: 5.62s\n",
      "339:\tlearn: 0.2493209\ttotal: 2.89s\tremaining: 5.62s\n",
      "340:\tlearn: 0.2492808\ttotal: 2.9s\tremaining: 5.61s\n",
      "341:\tlearn: 0.2492386\ttotal: 2.92s\tremaining: 5.62s\n",
      "342:\tlearn: 0.2491810\ttotal: 2.94s\tremaining: 5.63s\n",
      "343:\tlearn: 0.2490994\ttotal: 2.95s\tremaining: 5.63s\n",
      "344:\tlearn: 0.2490559\ttotal: 2.96s\tremaining: 5.62s\n",
      "345:\tlearn: 0.2489788\ttotal: 2.97s\tremaining: 5.61s\n",
      "346:\tlearn: 0.2488956\ttotal: 2.97s\tremaining: 5.6s\n",
      "347:\tlearn: 0.2488604\ttotal: 2.98s\tremaining: 5.59s\n",
      "348:\tlearn: 0.2488037\ttotal: 2.99s\tremaining: 5.58s\n",
      "349:\tlearn: 0.2487417\ttotal: 3s\tremaining: 5.57s\n",
      "350:\tlearn: 0.2486441\ttotal: 3s\tremaining: 5.55s\n",
      "351:\tlearn: 0.2485731\ttotal: 3.01s\tremaining: 5.54s\n",
      "352:\tlearn: 0.2485069\ttotal: 3.02s\tremaining: 5.53s\n",
      "353:\tlearn: 0.2484489\ttotal: 3.03s\tremaining: 5.52s\n",
      "354:\tlearn: 0.2483771\ttotal: 3.03s\tremaining: 5.51s\n",
      "355:\tlearn: 0.2483060\ttotal: 3.04s\tremaining: 5.5s\n",
      "356:\tlearn: 0.2482176\ttotal: 3.05s\tremaining: 5.49s\n",
      "357:\tlearn: 0.2481251\ttotal: 3.06s\tremaining: 5.48s\n",
      "358:\tlearn: 0.2480619\ttotal: 3.07s\tremaining: 5.48s\n",
      "359:\tlearn: 0.2480263\ttotal: 3.08s\tremaining: 5.47s\n",
      "360:\tlearn: 0.2479346\ttotal: 3.09s\tremaining: 5.46s\n",
      "361:\tlearn: 0.2478695\ttotal: 3.09s\tremaining: 5.45s\n",
      "362:\tlearn: 0.2477974\ttotal: 3.1s\tremaining: 5.44s\n",
      "363:\tlearn: 0.2477381\ttotal: 3.11s\tremaining: 5.43s\n",
      "364:\tlearn: 0.2476569\ttotal: 3.12s\tremaining: 5.42s\n",
      "365:\tlearn: 0.2475399\ttotal: 3.12s\tremaining: 5.41s\n",
      "366:\tlearn: 0.2474396\ttotal: 3.13s\tremaining: 5.4s\n",
      "367:\tlearn: 0.2473870\ttotal: 3.14s\tremaining: 5.39s\n",
      "368:\tlearn: 0.2473382\ttotal: 3.15s\tremaining: 5.38s\n",
      "369:\tlearn: 0.2472705\ttotal: 3.15s\tremaining: 5.37s\n",
      "370:\tlearn: 0.2472030\ttotal: 3.16s\tremaining: 5.36s\n",
      "371:\tlearn: 0.2471425\ttotal: 3.17s\tremaining: 5.35s\n",
      "372:\tlearn: 0.2470588\ttotal: 3.18s\tremaining: 5.34s\n",
      "373:\tlearn: 0.2469895\ttotal: 3.18s\tremaining: 5.33s\n",
      "374:\tlearn: 0.2469344\ttotal: 3.19s\tremaining: 5.32s\n",
      "375:\tlearn: 0.2468602\ttotal: 3.2s\tremaining: 5.31s\n",
      "376:\tlearn: 0.2467512\ttotal: 3.21s\tremaining: 5.3s\n",
      "377:\tlearn: 0.2466865\ttotal: 3.22s\tremaining: 5.29s\n",
      "378:\tlearn: 0.2466359\ttotal: 3.22s\tremaining: 5.28s\n",
      "379:\tlearn: 0.2466010\ttotal: 3.23s\tremaining: 5.28s\n",
      "380:\tlearn: 0.2465377\ttotal: 3.26s\tremaining: 5.3s\n",
      "381:\tlearn: 0.2465043\ttotal: 3.28s\tremaining: 5.3s\n",
      "382:\tlearn: 0.2464323\ttotal: 3.29s\tremaining: 5.3s\n",
      "383:\tlearn: 0.2463427\ttotal: 3.3s\tremaining: 5.29s\n",
      "384:\tlearn: 0.2462487\ttotal: 3.3s\tremaining: 5.28s\n",
      "385:\tlearn: 0.2461856\ttotal: 3.31s\tremaining: 5.27s\n",
      "386:\tlearn: 0.2461172\ttotal: 3.32s\tremaining: 5.26s\n",
      "387:\tlearn: 0.2460583\ttotal: 3.33s\tremaining: 5.25s\n",
      "388:\tlearn: 0.2459744\ttotal: 3.33s\tremaining: 5.24s\n",
      "389:\tlearn: 0.2459108\ttotal: 3.34s\tremaining: 5.23s\n",
      "390:\tlearn: 0.2458526\ttotal: 3.35s\tremaining: 5.22s\n",
      "391:\tlearn: 0.2457902\ttotal: 3.36s\tremaining: 5.21s\n",
      "392:\tlearn: 0.2457178\ttotal: 3.37s\tremaining: 5.2s\n",
      "393:\tlearn: 0.2456499\ttotal: 3.37s\tremaining: 5.19s\n",
      "394:\tlearn: 0.2456241\ttotal: 3.38s\tremaining: 5.18s\n",
      "395:\tlearn: 0.2455891\ttotal: 3.39s\tremaining: 5.17s\n",
      "396:\tlearn: 0.2455442\ttotal: 3.4s\tremaining: 5.16s\n",
      "397:\tlearn: 0.2455033\ttotal: 3.4s\tremaining: 5.15s\n",
      "398:\tlearn: 0.2454602\ttotal: 3.41s\tremaining: 5.14s\n",
      "399:\tlearn: 0.2453869\ttotal: 3.42s\tremaining: 5.13s\n",
      "400:\tlearn: 0.2453111\ttotal: 3.44s\tremaining: 5.15s\n",
      "401:\tlearn: 0.2452592\ttotal: 3.46s\tremaining: 5.15s\n",
      "402:\tlearn: 0.2451677\ttotal: 3.47s\tremaining: 5.14s\n",
      "403:\tlearn: 0.2450949\ttotal: 3.48s\tremaining: 5.13s\n",
      "404:\tlearn: 0.2450251\ttotal: 3.48s\tremaining: 5.12s\n",
      "405:\tlearn: 0.2449778\ttotal: 3.49s\tremaining: 5.11s\n",
      "406:\tlearn: 0.2449295\ttotal: 3.5s\tremaining: 5.1s\n",
      "407:\tlearn: 0.2449014\ttotal: 3.5s\tremaining: 5.09s\n",
      "408:\tlearn: 0.2448557\ttotal: 3.51s\tremaining: 5.08s\n",
      "409:\tlearn: 0.2447939\ttotal: 3.52s\tremaining: 5.07s\n",
      "410:\tlearn: 0.2447426\ttotal: 3.53s\tremaining: 5.06s\n",
      "411:\tlearn: 0.2446778\ttotal: 3.54s\tremaining: 5.05s\n",
      "412:\tlearn: 0.2446177\ttotal: 3.54s\tremaining: 5.04s\n",
      "413:\tlearn: 0.2445547\ttotal: 3.55s\tremaining: 5.03s\n",
      "414:\tlearn: 0.2444613\ttotal: 3.56s\tremaining: 5.02s\n",
      "415:\tlearn: 0.2444101\ttotal: 3.57s\tremaining: 5.01s\n",
      "416:\tlearn: 0.2443528\ttotal: 3.59s\tremaining: 5.03s\n",
      "417:\tlearn: 0.2442881\ttotal: 3.6s\tremaining: 5.01s\n",
      "418:\tlearn: 0.2442295\ttotal: 3.61s\tremaining: 5s\n",
      "419:\tlearn: 0.2441661\ttotal: 3.62s\tremaining: 4.99s\n",
      "420:\tlearn: 0.2441146\ttotal: 3.62s\tremaining: 4.98s\n",
      "421:\tlearn: 0.2440475\ttotal: 3.63s\tremaining: 4.97s\n",
      "422:\tlearn: 0.2440107\ttotal: 3.64s\tremaining: 4.96s\n",
      "423:\tlearn: 0.2439015\ttotal: 3.65s\tremaining: 4.96s\n",
      "424:\tlearn: 0.2438379\ttotal: 3.65s\tremaining: 4.95s\n",
      "425:\tlearn: 0.2437473\ttotal: 3.66s\tremaining: 4.94s\n",
      "426:\tlearn: 0.2437147\ttotal: 3.67s\tremaining: 4.93s\n",
      "427:\tlearn: 0.2436709\ttotal: 3.68s\tremaining: 4.92s\n",
      "428:\tlearn: 0.2436415\ttotal: 3.69s\tremaining: 4.91s\n",
      "429:\tlearn: 0.2435529\ttotal: 3.69s\tremaining: 4.9s\n",
      "430:\tlearn: 0.2434864\ttotal: 3.7s\tremaining: 4.89s\n",
      "431:\tlearn: 0.2434130\ttotal: 3.71s\tremaining: 4.88s\n",
      "432:\tlearn: 0.2433328\ttotal: 3.72s\tremaining: 4.87s\n",
      "433:\tlearn: 0.2432689\ttotal: 3.73s\tremaining: 4.86s\n",
      "434:\tlearn: 0.2432248\ttotal: 3.73s\tremaining: 4.85s\n",
      "435:\tlearn: 0.2431699\ttotal: 3.74s\tremaining: 4.84s\n",
      "436:\tlearn: 0.2431167\ttotal: 3.75s\tremaining: 4.83s\n",
      "437:\tlearn: 0.2430677\ttotal: 3.76s\tremaining: 4.82s\n",
      "438:\tlearn: 0.2430333\ttotal: 3.76s\tremaining: 4.81s\n",
      "439:\tlearn: 0.2429592\ttotal: 3.78s\tremaining: 4.82s\n",
      "440:\tlearn: 0.2428641\ttotal: 3.79s\tremaining: 4.81s\n",
      "441:\tlearn: 0.2427628\ttotal: 3.8s\tremaining: 4.8s\n"
     ]
    },
    {
     "name": "stdout",
     "output_type": "stream",
     "text": [
      "442:\tlearn: 0.2426930\ttotal: 3.81s\tremaining: 4.79s\n",
      "443:\tlearn: 0.2426518\ttotal: 3.82s\tremaining: 4.78s\n",
      "444:\tlearn: 0.2425824\ttotal: 3.83s\tremaining: 4.77s\n",
      "445:\tlearn: 0.2425244\ttotal: 3.83s\tremaining: 4.76s\n",
      "446:\tlearn: 0.2424649\ttotal: 3.84s\tremaining: 4.75s\n",
      "447:\tlearn: 0.2424117\ttotal: 3.85s\tremaining: 4.74s\n",
      "448:\tlearn: 0.2423749\ttotal: 3.86s\tremaining: 4.73s\n",
      "449:\tlearn: 0.2423130\ttotal: 3.87s\tremaining: 4.72s\n",
      "450:\tlearn: 0.2422631\ttotal: 3.87s\tremaining: 4.71s\n",
      "451:\tlearn: 0.2422113\ttotal: 3.88s\tremaining: 4.71s\n",
      "452:\tlearn: 0.2421428\ttotal: 3.89s\tremaining: 4.69s\n",
      "453:\tlearn: 0.2420425\ttotal: 3.9s\tremaining: 4.68s\n",
      "454:\tlearn: 0.2420001\ttotal: 3.9s\tremaining: 4.67s\n",
      "455:\tlearn: 0.2419504\ttotal: 3.91s\tremaining: 4.67s\n",
      "456:\tlearn: 0.2419073\ttotal: 3.92s\tremaining: 4.66s\n",
      "457:\tlearn: 0.2418610\ttotal: 3.92s\tremaining: 4.64s\n",
      "458:\tlearn: 0.2418273\ttotal: 3.93s\tremaining: 4.63s\n",
      "459:\tlearn: 0.2417673\ttotal: 3.94s\tremaining: 4.62s\n",
      "460:\tlearn: 0.2417234\ttotal: 3.95s\tremaining: 4.61s\n",
      "461:\tlearn: 0.2416762\ttotal: 3.95s\tremaining: 4.6s\n",
      "462:\tlearn: 0.2416363\ttotal: 3.96s\tremaining: 4.59s\n",
      "463:\tlearn: 0.2415702\ttotal: 3.97s\tremaining: 4.58s\n",
      "464:\tlearn: 0.2414972\ttotal: 3.98s\tremaining: 4.57s\n",
      "465:\tlearn: 0.2414316\ttotal: 3.98s\tremaining: 4.56s\n",
      "466:\tlearn: 0.2413633\ttotal: 3.99s\tremaining: 4.55s\n",
      "467:\tlearn: 0.2412990\ttotal: 4s\tremaining: 4.55s\n",
      "468:\tlearn: 0.2412095\ttotal: 4.01s\tremaining: 4.54s\n",
      "469:\tlearn: 0.2411499\ttotal: 4.01s\tremaining: 4.53s\n",
      "470:\tlearn: 0.2411093\ttotal: 4.02s\tremaining: 4.52s\n",
      "471:\tlearn: 0.2410484\ttotal: 4.03s\tremaining: 4.51s\n",
      "472:\tlearn: 0.2409865\ttotal: 4.04s\tremaining: 4.5s\n",
      "473:\tlearn: 0.2409514\ttotal: 4.05s\tremaining: 4.49s\n",
      "474:\tlearn: 0.2408804\ttotal: 4.05s\tremaining: 4.48s\n",
      "475:\tlearn: 0.2408232\ttotal: 4.06s\tremaining: 4.47s\n",
      "476:\tlearn: 0.2407525\ttotal: 4.07s\tremaining: 4.46s\n",
      "477:\tlearn: 0.2407040\ttotal: 4.08s\tremaining: 4.45s\n",
      "478:\tlearn: 0.2406511\ttotal: 4.08s\tremaining: 4.44s\n",
      "479:\tlearn: 0.2405732\ttotal: 4.09s\tremaining: 4.43s\n",
      "480:\tlearn: 0.2404976\ttotal: 4.1s\tremaining: 4.42s\n",
      "481:\tlearn: 0.2403988\ttotal: 4.11s\tremaining: 4.41s\n",
      "482:\tlearn: 0.2403570\ttotal: 4.12s\tremaining: 4.41s\n",
      "483:\tlearn: 0.2402919\ttotal: 4.12s\tremaining: 4.39s\n",
      "484:\tlearn: 0.2401993\ttotal: 4.13s\tremaining: 4.39s\n",
      "485:\tlearn: 0.2401418\ttotal: 4.14s\tremaining: 4.38s\n",
      "486:\tlearn: 0.2401049\ttotal: 4.14s\tremaining: 4.37s\n",
      "487:\tlearn: 0.2400430\ttotal: 4.15s\tremaining: 4.36s\n",
      "488:\tlearn: 0.2399925\ttotal: 4.16s\tremaining: 4.35s\n",
      "489:\tlearn: 0.2399433\ttotal: 4.17s\tremaining: 4.34s\n",
      "490:\tlearn: 0.2398859\ttotal: 4.18s\tremaining: 4.33s\n",
      "491:\tlearn: 0.2398462\ttotal: 4.18s\tremaining: 4.32s\n",
      "492:\tlearn: 0.2397972\ttotal: 4.19s\tremaining: 4.31s\n",
      "493:\tlearn: 0.2397411\ttotal: 4.2s\tremaining: 4.3s\n",
      "494:\tlearn: 0.2397077\ttotal: 4.21s\tremaining: 4.29s\n",
      "495:\tlearn: 0.2396525\ttotal: 4.21s\tremaining: 4.28s\n",
      "496:\tlearn: 0.2396224\ttotal: 4.22s\tremaining: 4.27s\n",
      "497:\tlearn: 0.2395787\ttotal: 4.23s\tremaining: 4.26s\n",
      "498:\tlearn: 0.2395163\ttotal: 4.24s\tremaining: 4.25s\n",
      "499:\tlearn: 0.2394449\ttotal: 4.24s\tremaining: 4.24s\n",
      "500:\tlearn: 0.2393293\ttotal: 4.25s\tremaining: 4.24s\n",
      "501:\tlearn: 0.2392857\ttotal: 4.26s\tremaining: 4.22s\n",
      "502:\tlearn: 0.2392306\ttotal: 4.27s\tremaining: 4.22s\n",
      "503:\tlearn: 0.2391945\ttotal: 4.27s\tremaining: 4.21s\n",
      "504:\tlearn: 0.2391202\ttotal: 4.28s\tremaining: 4.2s\n",
      "505:\tlearn: 0.2390405\ttotal: 4.29s\tremaining: 4.19s\n",
      "506:\tlearn: 0.2389862\ttotal: 4.3s\tremaining: 4.18s\n",
      "507:\tlearn: 0.2389591\ttotal: 4.3s\tremaining: 4.17s\n",
      "508:\tlearn: 0.2389180\ttotal: 4.31s\tremaining: 4.16s\n",
      "509:\tlearn: 0.2388691\ttotal: 4.32s\tremaining: 4.15s\n",
      "510:\tlearn: 0.2388191\ttotal: 4.33s\tremaining: 4.14s\n",
      "511:\tlearn: 0.2387705\ttotal: 4.33s\tremaining: 4.13s\n",
      "512:\tlearn: 0.2387111\ttotal: 4.34s\tremaining: 4.12s\n",
      "513:\tlearn: 0.2386715\ttotal: 4.35s\tremaining: 4.12s\n",
      "514:\tlearn: 0.2386266\ttotal: 4.36s\tremaining: 4.11s\n",
      "515:\tlearn: 0.2385628\ttotal: 4.37s\tremaining: 4.1s\n",
      "516:\tlearn: 0.2385050\ttotal: 4.38s\tremaining: 4.09s\n",
      "517:\tlearn: 0.2384564\ttotal: 4.38s\tremaining: 4.08s\n",
      "518:\tlearn: 0.2383722\ttotal: 4.39s\tremaining: 4.07s\n",
      "519:\tlearn: 0.2383197\ttotal: 4.4s\tremaining: 4.06s\n",
      "520:\tlearn: 0.2382957\ttotal: 4.41s\tremaining: 4.05s\n",
      "521:\tlearn: 0.2382573\ttotal: 4.41s\tremaining: 4.04s\n",
      "522:\tlearn: 0.2381798\ttotal: 4.42s\tremaining: 4.03s\n",
      "523:\tlearn: 0.2381268\ttotal: 4.43s\tremaining: 4.02s\n",
      "524:\tlearn: 0.2380750\ttotal: 4.44s\tremaining: 4.01s\n",
      "525:\tlearn: 0.2380470\ttotal: 4.44s\tremaining: 4s\n",
      "526:\tlearn: 0.2380084\ttotal: 4.45s\tremaining: 4s\n",
      "527:\tlearn: 0.2379619\ttotal: 4.46s\tremaining: 3.99s\n",
      "528:\tlearn: 0.2378763\ttotal: 4.47s\tremaining: 3.98s\n",
      "529:\tlearn: 0.2378289\ttotal: 4.47s\tremaining: 3.97s\n",
      "530:\tlearn: 0.2377716\ttotal: 4.48s\tremaining: 3.96s\n",
      "531:\tlearn: 0.2376981\ttotal: 4.49s\tremaining: 3.95s\n",
      "532:\tlearn: 0.2376358\ttotal: 4.5s\tremaining: 3.94s\n",
      "533:\tlearn: 0.2375879\ttotal: 4.5s\tremaining: 3.93s\n",
      "534:\tlearn: 0.2375598\ttotal: 4.51s\tremaining: 3.92s\n",
      "535:\tlearn: 0.2375275\ttotal: 4.52s\tremaining: 3.91s\n",
      "536:\tlearn: 0.2374834\ttotal: 4.53s\tremaining: 3.9s\n",
      "537:\tlearn: 0.2374579\ttotal: 4.54s\tremaining: 3.89s\n",
      "538:\tlearn: 0.2374095\ttotal: 4.54s\tremaining: 3.88s\n",
      "539:\tlearn: 0.2373401\ttotal: 4.55s\tremaining: 3.88s\n",
      "540:\tlearn: 0.2372903\ttotal: 4.56s\tremaining: 3.87s\n",
      "541:\tlearn: 0.2372583\ttotal: 4.57s\tremaining: 3.86s\n",
      "542:\tlearn: 0.2371472\ttotal: 4.57s\tremaining: 3.85s\n",
      "543:\tlearn: 0.2371152\ttotal: 4.58s\tremaining: 3.84s\n",
      "544:\tlearn: 0.2370617\ttotal: 4.59s\tremaining: 3.83s\n",
      "545:\tlearn: 0.2370053\ttotal: 4.59s\tremaining: 3.82s\n",
      "546:\tlearn: 0.2369651\ttotal: 4.6s\tremaining: 3.81s\n",
      "547:\tlearn: 0.2368982\ttotal: 4.61s\tremaining: 3.8s\n",
      "548:\tlearn: 0.2368490\ttotal: 4.62s\tremaining: 3.79s\n",
      "549:\tlearn: 0.2368229\ttotal: 4.63s\tremaining: 3.79s\n",
      "550:\tlearn: 0.2367703\ttotal: 4.63s\tremaining: 3.78s\n",
      "551:\tlearn: 0.2367046\ttotal: 4.64s\tremaining: 3.77s\n",
      "552:\tlearn: 0.2366828\ttotal: 4.65s\tremaining: 3.76s\n",
      "553:\tlearn: 0.2366242\ttotal: 4.66s\tremaining: 3.75s\n",
      "554:\tlearn: 0.2365854\ttotal: 4.66s\tremaining: 3.74s\n",
      "555:\tlearn: 0.2365416\ttotal: 4.67s\tremaining: 3.73s\n",
      "556:\tlearn: 0.2364865\ttotal: 4.68s\tremaining: 3.72s\n",
      "557:\tlearn: 0.2364307\ttotal: 4.69s\tremaining: 3.71s\n",
      "558:\tlearn: 0.2363905\ttotal: 4.7s\tremaining: 3.7s\n",
      "559:\tlearn: 0.2363295\ttotal: 4.7s\tremaining: 3.7s\n",
      "560:\tlearn: 0.2362871\ttotal: 4.71s\tremaining: 3.69s\n",
      "561:\tlearn: 0.2362397\ttotal: 4.72s\tremaining: 3.68s\n",
      "562:\tlearn: 0.2361861\ttotal: 4.73s\tremaining: 3.67s\n",
      "563:\tlearn: 0.2361155\ttotal: 4.73s\tremaining: 3.66s\n",
      "564:\tlearn: 0.2360875\ttotal: 4.74s\tremaining: 3.65s\n",
      "565:\tlearn: 0.2360541\ttotal: 4.75s\tremaining: 3.64s\n",
      "566:\tlearn: 0.2360198\ttotal: 4.76s\tremaining: 3.63s\n",
      "567:\tlearn: 0.2359681\ttotal: 4.76s\tremaining: 3.62s\n",
      "568:\tlearn: 0.2358955\ttotal: 4.77s\tremaining: 3.61s\n",
      "569:\tlearn: 0.2358554\ttotal: 4.78s\tremaining: 3.6s\n",
      "570:\tlearn: 0.2358001\ttotal: 4.79s\tremaining: 3.6s\n",
      "571:\tlearn: 0.2357562\ttotal: 4.79s\tremaining: 3.59s\n",
      "572:\tlearn: 0.2357254\ttotal: 4.8s\tremaining: 3.58s\n",
      "573:\tlearn: 0.2356738\ttotal: 4.81s\tremaining: 3.57s\n",
      "574:\tlearn: 0.2356070\ttotal: 4.82s\tremaining: 3.56s\n",
      "575:\tlearn: 0.2355475\ttotal: 4.83s\tremaining: 3.55s\n",
      "576:\tlearn: 0.2354983\ttotal: 4.83s\tremaining: 3.54s\n",
      "577:\tlearn: 0.2354753\ttotal: 4.84s\tremaining: 3.53s\n",
      "578:\tlearn: 0.2354270\ttotal: 4.85s\tremaining: 3.52s\n",
      "579:\tlearn: 0.2353994\ttotal: 4.86s\tremaining: 3.52s\n",
      "580:\tlearn: 0.2353610\ttotal: 4.87s\tremaining: 3.51s\n",
      "581:\tlearn: 0.2353195\ttotal: 4.87s\tremaining: 3.5s\n",
      "582:\tlearn: 0.2352816\ttotal: 4.88s\tremaining: 3.49s\n",
      "583:\tlearn: 0.2351990\ttotal: 4.89s\tremaining: 3.48s\n",
      "584:\tlearn: 0.2351323\ttotal: 4.9s\tremaining: 3.48s\n",
      "585:\tlearn: 0.2350868\ttotal: 4.91s\tremaining: 3.47s\n",
      "586:\tlearn: 0.2350251\ttotal: 4.91s\tremaining: 3.46s\n",
      "587:\tlearn: 0.2349545\ttotal: 4.92s\tremaining: 3.45s\n",
      "588:\tlearn: 0.2349074\ttotal: 4.93s\tremaining: 3.44s\n",
      "589:\tlearn: 0.2348835\ttotal: 4.94s\tremaining: 3.43s\n",
      "590:\tlearn: 0.2348408\ttotal: 4.94s\tremaining: 3.42s\n",
      "591:\tlearn: 0.2348061\ttotal: 4.95s\tremaining: 3.41s\n",
      "592:\tlearn: 0.2347622\ttotal: 4.96s\tremaining: 3.4s\n",
      "593:\tlearn: 0.2346972\ttotal: 4.97s\tremaining: 3.39s\n",
      "594:\tlearn: 0.2346533\ttotal: 4.97s\tremaining: 3.39s\n",
      "595:\tlearn: 0.2346209\ttotal: 4.98s\tremaining: 3.38s\n",
      "596:\tlearn: 0.2345650\ttotal: 4.99s\tremaining: 3.37s\n",
      "597:\tlearn: 0.2344590\ttotal: 5s\tremaining: 3.36s\n",
      "598:\tlearn: 0.2344119\ttotal: 5s\tremaining: 3.35s\n",
      "599:\tlearn: 0.2343790\ttotal: 5.01s\tremaining: 3.34s\n",
      "600:\tlearn: 0.2343383\ttotal: 5.02s\tremaining: 3.33s\n",
      "601:\tlearn: 0.2343090\ttotal: 5.03s\tremaining: 3.32s\n",
      "602:\tlearn: 0.2342551\ttotal: 5.04s\tremaining: 3.31s\n",
      "603:\tlearn: 0.2341973\ttotal: 5.04s\tremaining: 3.31s\n",
      "604:\tlearn: 0.2341254\ttotal: 5.05s\tremaining: 3.3s\n"
     ]
    },
    {
     "name": "stdout",
     "output_type": "stream",
     "text": [
      "605:\tlearn: 0.2340508\ttotal: 5.06s\tremaining: 3.29s\n",
      "606:\tlearn: 0.2339865\ttotal: 5.07s\tremaining: 3.28s\n",
      "607:\tlearn: 0.2339438\ttotal: 5.08s\tremaining: 3.27s\n",
      "608:\tlearn: 0.2338938\ttotal: 5.08s\tremaining: 3.26s\n",
      "609:\tlearn: 0.2338490\ttotal: 5.09s\tremaining: 3.25s\n",
      "610:\tlearn: 0.2337974\ttotal: 5.1s\tremaining: 3.25s\n",
      "611:\tlearn: 0.2337690\ttotal: 5.11s\tremaining: 3.24s\n",
      "612:\tlearn: 0.2337316\ttotal: 5.11s\tremaining: 3.23s\n",
      "613:\tlearn: 0.2336985\ttotal: 5.12s\tremaining: 3.22s\n",
      "614:\tlearn: 0.2336690\ttotal: 5.13s\tremaining: 3.21s\n",
      "615:\tlearn: 0.2336213\ttotal: 5.13s\tremaining: 3.2s\n",
      "616:\tlearn: 0.2335535\ttotal: 5.14s\tremaining: 3.19s\n",
      "617:\tlearn: 0.2335352\ttotal: 5.15s\tremaining: 3.18s\n",
      "618:\tlearn: 0.2335048\ttotal: 5.16s\tremaining: 3.17s\n",
      "619:\tlearn: 0.2334652\ttotal: 5.17s\tremaining: 3.17s\n",
      "620:\tlearn: 0.2334172\ttotal: 5.17s\tremaining: 3.16s\n",
      "621:\tlearn: 0.2333739\ttotal: 5.18s\tremaining: 3.15s\n",
      "622:\tlearn: 0.2333429\ttotal: 5.19s\tremaining: 3.14s\n",
      "623:\tlearn: 0.2332809\ttotal: 5.2s\tremaining: 3.13s\n",
      "624:\tlearn: 0.2332223\ttotal: 5.2s\tremaining: 3.12s\n",
      "625:\tlearn: 0.2331868\ttotal: 5.21s\tremaining: 3.11s\n",
      "626:\tlearn: 0.2331312\ttotal: 5.22s\tremaining: 3.1s\n",
      "627:\tlearn: 0.2330725\ttotal: 5.23s\tremaining: 3.1s\n",
      "628:\tlearn: 0.2330310\ttotal: 5.24s\tremaining: 3.09s\n",
      "629:\tlearn: 0.2330031\ttotal: 5.24s\tremaining: 3.08s\n",
      "630:\tlearn: 0.2329696\ttotal: 5.25s\tremaining: 3.07s\n",
      "631:\tlearn: 0.2329371\ttotal: 5.26s\tremaining: 3.06s\n",
      "632:\tlearn: 0.2329129\ttotal: 5.27s\tremaining: 3.05s\n",
      "633:\tlearn: 0.2328566\ttotal: 5.27s\tremaining: 3.04s\n",
      "634:\tlearn: 0.2327934\ttotal: 5.28s\tremaining: 3.04s\n",
      "635:\tlearn: 0.2327534\ttotal: 5.29s\tremaining: 3.03s\n",
      "636:\tlearn: 0.2327121\ttotal: 5.3s\tremaining: 3.02s\n",
      "637:\tlearn: 0.2326755\ttotal: 5.3s\tremaining: 3.01s\n",
      "638:\tlearn: 0.2326415\ttotal: 5.31s\tremaining: 3s\n",
      "639:\tlearn: 0.2325990\ttotal: 5.32s\tremaining: 2.99s\n",
      "640:\tlearn: 0.2325454\ttotal: 5.33s\tremaining: 2.98s\n",
      "641:\tlearn: 0.2325020\ttotal: 5.34s\tremaining: 2.98s\n",
      "642:\tlearn: 0.2324386\ttotal: 5.34s\tremaining: 2.97s\n",
      "643:\tlearn: 0.2323862\ttotal: 5.35s\tremaining: 2.96s\n",
      "644:\tlearn: 0.2323633\ttotal: 5.36s\tremaining: 2.95s\n",
      "645:\tlearn: 0.2322634\ttotal: 5.37s\tremaining: 2.94s\n",
      "646:\tlearn: 0.2322278\ttotal: 5.38s\tremaining: 2.93s\n",
      "647:\tlearn: 0.2321893\ttotal: 5.38s\tremaining: 2.92s\n",
      "648:\tlearn: 0.2321361\ttotal: 5.39s\tremaining: 2.92s\n",
      "649:\tlearn: 0.2321079\ttotal: 5.4s\tremaining: 2.91s\n",
      "650:\tlearn: 0.2320268\ttotal: 5.41s\tremaining: 2.9s\n",
      "651:\tlearn: 0.2319849\ttotal: 5.42s\tremaining: 2.89s\n",
      "652:\tlearn: 0.2319261\ttotal: 5.42s\tremaining: 2.88s\n",
      "653:\tlearn: 0.2318764\ttotal: 5.43s\tremaining: 2.87s\n",
      "654:\tlearn: 0.2318148\ttotal: 5.44s\tremaining: 2.86s\n",
      "655:\tlearn: 0.2317924\ttotal: 5.45s\tremaining: 2.86s\n",
      "656:\tlearn: 0.2317301\ttotal: 5.45s\tremaining: 2.85s\n",
      "657:\tlearn: 0.2316900\ttotal: 5.46s\tremaining: 2.84s\n",
      "658:\tlearn: 0.2316493\ttotal: 5.47s\tremaining: 2.83s\n",
      "659:\tlearn: 0.2316103\ttotal: 5.48s\tremaining: 2.82s\n",
      "660:\tlearn: 0.2315707\ttotal: 5.48s\tremaining: 2.81s\n",
      "661:\tlearn: 0.2315212\ttotal: 5.49s\tremaining: 2.8s\n",
      "662:\tlearn: 0.2314751\ttotal: 5.5s\tremaining: 2.79s\n",
      "663:\tlearn: 0.2314524\ttotal: 5.51s\tremaining: 2.79s\n",
      "664:\tlearn: 0.2314127\ttotal: 5.51s\tremaining: 2.78s\n",
      "665:\tlearn: 0.2313791\ttotal: 5.52s\tremaining: 2.77s\n",
      "666:\tlearn: 0.2313557\ttotal: 5.53s\tremaining: 2.76s\n",
      "667:\tlearn: 0.2313030\ttotal: 5.54s\tremaining: 2.75s\n",
      "668:\tlearn: 0.2312361\ttotal: 5.55s\tremaining: 2.74s\n",
      "669:\tlearn: 0.2311854\ttotal: 5.55s\tremaining: 2.74s\n",
      "670:\tlearn: 0.2311400\ttotal: 5.56s\tremaining: 2.73s\n",
      "671:\tlearn: 0.2311089\ttotal: 5.57s\tremaining: 2.72s\n",
      "672:\tlearn: 0.2310689\ttotal: 5.58s\tremaining: 2.71s\n",
      "673:\tlearn: 0.2310283\ttotal: 5.59s\tremaining: 2.7s\n",
      "674:\tlearn: 0.2310037\ttotal: 5.59s\tremaining: 2.69s\n",
      "675:\tlearn: 0.2309366\ttotal: 5.6s\tremaining: 2.69s\n",
      "676:\tlearn: 0.2309124\ttotal: 5.61s\tremaining: 2.68s\n",
      "677:\tlearn: 0.2308510\ttotal: 5.62s\tremaining: 2.67s\n",
      "678:\tlearn: 0.2308201\ttotal: 5.63s\tremaining: 2.66s\n",
      "679:\tlearn: 0.2307732\ttotal: 5.63s\tremaining: 2.65s\n",
      "680:\tlearn: 0.2307324\ttotal: 5.64s\tremaining: 2.64s\n",
      "681:\tlearn: 0.2306760\ttotal: 5.65s\tremaining: 2.63s\n",
      "682:\tlearn: 0.2306247\ttotal: 5.65s\tremaining: 2.62s\n",
      "683:\tlearn: 0.2305548\ttotal: 5.66s\tremaining: 2.62s\n",
      "684:\tlearn: 0.2304938\ttotal: 5.67s\tremaining: 2.61s\n",
      "685:\tlearn: 0.2304549\ttotal: 5.68s\tremaining: 2.6s\n",
      "686:\tlearn: 0.2304244\ttotal: 5.68s\tremaining: 2.59s\n",
      "687:\tlearn: 0.2303916\ttotal: 5.69s\tremaining: 2.58s\n",
      "688:\tlearn: 0.2303606\ttotal: 5.7s\tremaining: 2.57s\n",
      "689:\tlearn: 0.2303004\ttotal: 5.71s\tremaining: 2.56s\n",
      "690:\tlearn: 0.2302493\ttotal: 5.71s\tremaining: 2.56s\n",
      "691:\tlearn: 0.2302228\ttotal: 5.72s\tremaining: 2.55s\n",
      "692:\tlearn: 0.2301582\ttotal: 5.73s\tremaining: 2.54s\n",
      "693:\tlearn: 0.2301370\ttotal: 5.74s\tremaining: 2.53s\n",
      "694:\tlearn: 0.2301120\ttotal: 5.74s\tremaining: 2.52s\n",
      "695:\tlearn: 0.2300711\ttotal: 5.75s\tremaining: 2.51s\n",
      "696:\tlearn: 0.2300495\ttotal: 5.76s\tremaining: 2.5s\n",
      "697:\tlearn: 0.2299884\ttotal: 5.76s\tremaining: 2.49s\n",
      "698:\tlearn: 0.2299368\ttotal: 5.77s\tremaining: 2.49s\n",
      "699:\tlearn: 0.2298699\ttotal: 5.78s\tremaining: 2.48s\n",
      "700:\tlearn: 0.2298407\ttotal: 5.79s\tremaining: 2.47s\n",
      "701:\tlearn: 0.2298013\ttotal: 5.8s\tremaining: 2.46s\n",
      "702:\tlearn: 0.2297674\ttotal: 5.8s\tremaining: 2.45s\n",
      "703:\tlearn: 0.2297411\ttotal: 5.81s\tremaining: 2.44s\n",
      "704:\tlearn: 0.2297026\ttotal: 5.82s\tremaining: 2.43s\n",
      "705:\tlearn: 0.2296513\ttotal: 5.83s\tremaining: 2.43s\n",
      "706:\tlearn: 0.2296038\ttotal: 5.83s\tremaining: 2.42s\n",
      "707:\tlearn: 0.2295855\ttotal: 5.84s\tremaining: 2.41s\n",
      "708:\tlearn: 0.2295488\ttotal: 5.85s\tremaining: 2.4s\n",
      "709:\tlearn: 0.2295256\ttotal: 5.86s\tremaining: 2.39s\n",
      "710:\tlearn: 0.2294668\ttotal: 5.87s\tremaining: 2.38s\n",
      "711:\tlearn: 0.2294205\ttotal: 5.87s\tremaining: 2.38s\n",
      "712:\tlearn: 0.2293703\ttotal: 5.88s\tremaining: 2.37s\n",
      "713:\tlearn: 0.2293296\ttotal: 5.89s\tremaining: 2.36s\n",
      "714:\tlearn: 0.2292819\ttotal: 5.9s\tremaining: 2.35s\n",
      "715:\tlearn: 0.2292167\ttotal: 5.91s\tremaining: 2.34s\n",
      "716:\tlearn: 0.2291852\ttotal: 5.91s\tremaining: 2.33s\n",
      "717:\tlearn: 0.2291440\ttotal: 5.92s\tremaining: 2.33s\n",
      "718:\tlearn: 0.2291196\ttotal: 5.93s\tremaining: 2.32s\n",
      "719:\tlearn: 0.2290527\ttotal: 5.93s\tremaining: 2.31s\n",
      "720:\tlearn: 0.2289971\ttotal: 5.94s\tremaining: 2.3s\n",
      "721:\tlearn: 0.2289617\ttotal: 5.95s\tremaining: 2.29s\n",
      "722:\tlearn: 0.2289214\ttotal: 5.96s\tremaining: 2.28s\n",
      "723:\tlearn: 0.2288796\ttotal: 5.97s\tremaining: 2.27s\n",
      "724:\tlearn: 0.2288163\ttotal: 5.97s\tremaining: 2.27s\n",
      "725:\tlearn: 0.2287575\ttotal: 5.98s\tremaining: 2.26s\n",
      "726:\tlearn: 0.2286883\ttotal: 5.99s\tremaining: 2.25s\n",
      "727:\tlearn: 0.2286292\ttotal: 6s\tremaining: 2.24s\n",
      "728:\tlearn: 0.2285719\ttotal: 6.01s\tremaining: 2.23s\n",
      "729:\tlearn: 0.2285328\ttotal: 6.02s\tremaining: 2.23s\n",
      "730:\tlearn: 0.2285097\ttotal: 6.02s\tremaining: 2.22s\n",
      "731:\tlearn: 0.2284763\ttotal: 6.03s\tremaining: 2.21s\n",
      "732:\tlearn: 0.2284267\ttotal: 6.04s\tremaining: 2.2s\n",
      "733:\tlearn: 0.2283939\ttotal: 6.05s\tremaining: 2.19s\n",
      "734:\tlearn: 0.2283387\ttotal: 6.06s\tremaining: 2.18s\n",
      "735:\tlearn: 0.2282804\ttotal: 6.07s\tremaining: 2.17s\n",
      "736:\tlearn: 0.2282212\ttotal: 6.07s\tremaining: 2.17s\n",
      "737:\tlearn: 0.2281713\ttotal: 6.08s\tremaining: 2.16s\n",
      "738:\tlearn: 0.2281228\ttotal: 6.09s\tremaining: 2.15s\n",
      "739:\tlearn: 0.2280262\ttotal: 6.1s\tremaining: 2.14s\n",
      "740:\tlearn: 0.2279934\ttotal: 6.11s\tremaining: 2.13s\n",
      "741:\tlearn: 0.2279647\ttotal: 6.11s\tremaining: 2.13s\n",
      "742:\tlearn: 0.2279215\ttotal: 6.12s\tremaining: 2.12s\n",
      "743:\tlearn: 0.2278624\ttotal: 6.13s\tremaining: 2.11s\n",
      "744:\tlearn: 0.2278212\ttotal: 6.14s\tremaining: 2.1s\n",
      "745:\tlearn: 0.2277963\ttotal: 6.15s\tremaining: 2.09s\n",
      "746:\tlearn: 0.2277506\ttotal: 6.15s\tremaining: 2.08s\n",
      "747:\tlearn: 0.2276921\ttotal: 6.16s\tremaining: 2.08s\n",
      "748:\tlearn: 0.2276449\ttotal: 6.17s\tremaining: 2.07s\n",
      "749:\tlearn: 0.2276149\ttotal: 6.18s\tremaining: 2.06s\n",
      "750:\tlearn: 0.2275802\ttotal: 6.18s\tremaining: 2.05s\n",
      "751:\tlearn: 0.2275284\ttotal: 6.19s\tremaining: 2.04s\n",
      "752:\tlearn: 0.2274976\ttotal: 6.2s\tremaining: 2.03s\n",
      "753:\tlearn: 0.2274643\ttotal: 6.21s\tremaining: 2.02s\n",
      "754:\tlearn: 0.2273847\ttotal: 6.21s\tremaining: 2.02s\n",
      "755:\tlearn: 0.2273293\ttotal: 6.22s\tremaining: 2.01s\n",
      "756:\tlearn: 0.2272685\ttotal: 6.23s\tremaining: 2s\n",
      "757:\tlearn: 0.2272280\ttotal: 6.24s\tremaining: 1.99s\n",
      "758:\tlearn: 0.2271617\ttotal: 6.24s\tremaining: 1.98s\n",
      "759:\tlearn: 0.2271190\ttotal: 6.25s\tremaining: 1.97s\n",
      "760:\tlearn: 0.2270309\ttotal: 6.26s\tremaining: 1.97s\n",
      "761:\tlearn: 0.2269846\ttotal: 6.27s\tremaining: 1.96s\n",
      "762:\tlearn: 0.2269289\ttotal: 6.28s\tremaining: 1.95s\n",
      "763:\tlearn: 0.2268781\ttotal: 6.28s\tremaining: 1.94s\n",
      "764:\tlearn: 0.2268317\ttotal: 6.29s\tremaining: 1.93s\n",
      "765:\tlearn: 0.2267890\ttotal: 6.3s\tremaining: 1.92s\n"
     ]
    },
    {
     "name": "stdout",
     "output_type": "stream",
     "text": [
      "766:\tlearn: 0.2267535\ttotal: 6.31s\tremaining: 1.92s\n",
      "767:\tlearn: 0.2267100\ttotal: 6.31s\tremaining: 1.91s\n",
      "768:\tlearn: 0.2266671\ttotal: 6.32s\tremaining: 1.9s\n",
      "769:\tlearn: 0.2266032\ttotal: 6.33s\tremaining: 1.89s\n",
      "770:\tlearn: 0.2265559\ttotal: 6.34s\tremaining: 1.88s\n",
      "771:\tlearn: 0.2264851\ttotal: 6.34s\tremaining: 1.87s\n",
      "772:\tlearn: 0.2264485\ttotal: 6.35s\tremaining: 1.86s\n",
      "773:\tlearn: 0.2264183\ttotal: 6.36s\tremaining: 1.86s\n",
      "774:\tlearn: 0.2263614\ttotal: 6.37s\tremaining: 1.85s\n",
      "775:\tlearn: 0.2263081\ttotal: 6.38s\tremaining: 1.84s\n",
      "776:\tlearn: 0.2262689\ttotal: 6.38s\tremaining: 1.83s\n",
      "777:\tlearn: 0.2262392\ttotal: 6.39s\tremaining: 1.82s\n",
      "778:\tlearn: 0.2261951\ttotal: 6.4s\tremaining: 1.81s\n",
      "779:\tlearn: 0.2261573\ttotal: 6.41s\tremaining: 1.81s\n",
      "780:\tlearn: 0.2261287\ttotal: 6.41s\tremaining: 1.8s\n",
      "781:\tlearn: 0.2260873\ttotal: 6.42s\tremaining: 1.79s\n",
      "782:\tlearn: 0.2260320\ttotal: 6.43s\tremaining: 1.78s\n",
      "783:\tlearn: 0.2259994\ttotal: 6.43s\tremaining: 1.77s\n",
      "784:\tlearn: 0.2259814\ttotal: 6.44s\tremaining: 1.76s\n",
      "785:\tlearn: 0.2259596\ttotal: 6.45s\tremaining: 1.76s\n",
      "786:\tlearn: 0.2259201\ttotal: 6.46s\tremaining: 1.75s\n",
      "787:\tlearn: 0.2258869\ttotal: 6.46s\tremaining: 1.74s\n",
      "788:\tlearn: 0.2258133\ttotal: 6.47s\tremaining: 1.73s\n",
      "789:\tlearn: 0.2257555\ttotal: 6.48s\tremaining: 1.72s\n",
      "790:\tlearn: 0.2257089\ttotal: 6.49s\tremaining: 1.71s\n",
      "791:\tlearn: 0.2256452\ttotal: 6.5s\tremaining: 1.71s\n",
      "792:\tlearn: 0.2256149\ttotal: 6.5s\tremaining: 1.7s\n",
      "793:\tlearn: 0.2255696\ttotal: 6.51s\tremaining: 1.69s\n",
      "794:\tlearn: 0.2255531\ttotal: 6.52s\tremaining: 1.68s\n",
      "795:\tlearn: 0.2255036\ttotal: 6.53s\tremaining: 1.67s\n",
      "796:\tlearn: 0.2254649\ttotal: 6.54s\tremaining: 1.67s\n",
      "797:\tlearn: 0.2254187\ttotal: 6.54s\tremaining: 1.66s\n",
      "798:\tlearn: 0.2253751\ttotal: 6.55s\tremaining: 1.65s\n",
      "799:\tlearn: 0.2253388\ttotal: 6.56s\tremaining: 1.64s\n",
      "800:\tlearn: 0.2253038\ttotal: 6.57s\tremaining: 1.63s\n",
      "801:\tlearn: 0.2252797\ttotal: 6.58s\tremaining: 1.62s\n",
      "802:\tlearn: 0.2252451\ttotal: 6.58s\tremaining: 1.61s\n",
      "803:\tlearn: 0.2252044\ttotal: 6.59s\tremaining: 1.61s\n",
      "804:\tlearn: 0.2251732\ttotal: 6.6s\tremaining: 1.6s\n",
      "805:\tlearn: 0.2251452\ttotal: 6.61s\tremaining: 1.59s\n",
      "806:\tlearn: 0.2251138\ttotal: 6.61s\tremaining: 1.58s\n",
      "807:\tlearn: 0.2250884\ttotal: 6.62s\tremaining: 1.57s\n",
      "808:\tlearn: 0.2250565\ttotal: 6.63s\tremaining: 1.56s\n",
      "809:\tlearn: 0.2250172\ttotal: 6.63s\tremaining: 1.56s\n",
      "810:\tlearn: 0.2249437\ttotal: 6.64s\tremaining: 1.55s\n",
      "811:\tlearn: 0.2249245\ttotal: 6.65s\tremaining: 1.54s\n",
      "812:\tlearn: 0.2248665\ttotal: 6.66s\tremaining: 1.53s\n",
      "813:\tlearn: 0.2248124\ttotal: 6.67s\tremaining: 1.52s\n",
      "814:\tlearn: 0.2247526\ttotal: 6.67s\tremaining: 1.51s\n",
      "815:\tlearn: 0.2247025\ttotal: 6.68s\tremaining: 1.51s\n",
      "816:\tlearn: 0.2246684\ttotal: 6.69s\tremaining: 1.5s\n",
      "817:\tlearn: 0.2246426\ttotal: 6.7s\tremaining: 1.49s\n",
      "818:\tlearn: 0.2246040\ttotal: 6.71s\tremaining: 1.48s\n",
      "819:\tlearn: 0.2245741\ttotal: 6.72s\tremaining: 1.47s\n",
      "820:\tlearn: 0.2245432\ttotal: 6.73s\tremaining: 1.47s\n",
      "821:\tlearn: 0.2245090\ttotal: 6.73s\tremaining: 1.46s\n",
      "822:\tlearn: 0.2244722\ttotal: 6.74s\tremaining: 1.45s\n",
      "823:\tlearn: 0.2244465\ttotal: 6.75s\tremaining: 1.44s\n",
      "824:\tlearn: 0.2244130\ttotal: 6.76s\tremaining: 1.43s\n",
      "825:\tlearn: 0.2243868\ttotal: 6.76s\tremaining: 1.42s\n",
      "826:\tlearn: 0.2243395\ttotal: 6.77s\tremaining: 1.42s\n",
      "827:\tlearn: 0.2243195\ttotal: 6.78s\tremaining: 1.41s\n",
      "828:\tlearn: 0.2242853\ttotal: 6.79s\tremaining: 1.4s\n",
      "829:\tlearn: 0.2242493\ttotal: 6.79s\tremaining: 1.39s\n",
      "830:\tlearn: 0.2242282\ttotal: 6.8s\tremaining: 1.38s\n",
      "831:\tlearn: 0.2241683\ttotal: 6.81s\tremaining: 1.37s\n",
      "832:\tlearn: 0.2241321\ttotal: 6.82s\tremaining: 1.37s\n",
      "833:\tlearn: 0.2240795\ttotal: 6.82s\tremaining: 1.36s\n",
      "834:\tlearn: 0.2240521\ttotal: 6.83s\tremaining: 1.35s\n",
      "835:\tlearn: 0.2240204\ttotal: 6.84s\tremaining: 1.34s\n",
      "836:\tlearn: 0.2239706\ttotal: 6.85s\tremaining: 1.33s\n",
      "837:\tlearn: 0.2239361\ttotal: 6.86s\tremaining: 1.32s\n",
      "838:\tlearn: 0.2239015\ttotal: 6.86s\tremaining: 1.32s\n",
      "839:\tlearn: 0.2238352\ttotal: 6.87s\tremaining: 1.31s\n",
      "840:\tlearn: 0.2237796\ttotal: 6.88s\tremaining: 1.3s\n",
      "841:\tlearn: 0.2237488\ttotal: 6.88s\tremaining: 1.29s\n",
      "842:\tlearn: 0.2237155\ttotal: 6.89s\tremaining: 1.28s\n",
      "843:\tlearn: 0.2236911\ttotal: 6.9s\tremaining: 1.27s\n",
      "844:\tlearn: 0.2236452\ttotal: 6.91s\tremaining: 1.27s\n",
      "845:\tlearn: 0.2236128\ttotal: 6.92s\tremaining: 1.26s\n",
      "846:\tlearn: 0.2235704\ttotal: 6.92s\tremaining: 1.25s\n",
      "847:\tlearn: 0.2235022\ttotal: 6.93s\tremaining: 1.24s\n",
      "848:\tlearn: 0.2234705\ttotal: 6.94s\tremaining: 1.23s\n",
      "849:\tlearn: 0.2234347\ttotal: 6.95s\tremaining: 1.23s\n",
      "850:\tlearn: 0.2234017\ttotal: 6.95s\tremaining: 1.22s\n",
      "851:\tlearn: 0.2233781\ttotal: 6.96s\tremaining: 1.21s\n",
      "852:\tlearn: 0.2233639\ttotal: 6.97s\tremaining: 1.2s\n",
      "853:\tlearn: 0.2233429\ttotal: 6.97s\tremaining: 1.19s\n",
      "854:\tlearn: 0.2233183\ttotal: 6.98s\tremaining: 1.18s\n",
      "855:\tlearn: 0.2232926\ttotal: 6.99s\tremaining: 1.18s\n",
      "856:\tlearn: 0.2232509\ttotal: 7s\tremaining: 1.17s\n",
      "857:\tlearn: 0.2232256\ttotal: 7s\tremaining: 1.16s\n",
      "858:\tlearn: 0.2232043\ttotal: 7.01s\tremaining: 1.15s\n",
      "859:\tlearn: 0.2231389\ttotal: 7.02s\tremaining: 1.14s\n",
      "860:\tlearn: 0.2231089\ttotal: 7.03s\tremaining: 1.13s\n",
      "861:\tlearn: 0.2230783\ttotal: 7.04s\tremaining: 1.13s\n",
      "862:\tlearn: 0.2230218\ttotal: 7.04s\tremaining: 1.12s\n",
      "863:\tlearn: 0.2230022\ttotal: 7.05s\tremaining: 1.11s\n",
      "864:\tlearn: 0.2229831\ttotal: 7.06s\tremaining: 1.1s\n",
      "865:\tlearn: 0.2229293\ttotal: 7.07s\tremaining: 1.09s\n",
      "866:\tlearn: 0.2228998\ttotal: 7.07s\tremaining: 1.08s\n",
      "867:\tlearn: 0.2228846\ttotal: 7.08s\tremaining: 1.08s\n",
      "868:\tlearn: 0.2228576\ttotal: 7.09s\tremaining: 1.07s\n",
      "869:\tlearn: 0.2228098\ttotal: 7.09s\tremaining: 1.06s\n",
      "870:\tlearn: 0.2227785\ttotal: 7.1s\tremaining: 1.05s\n",
      "871:\tlearn: 0.2227227\ttotal: 7.11s\tremaining: 1.04s\n",
      "872:\tlearn: 0.2227045\ttotal: 7.12s\tremaining: 1.03s\n",
      "873:\tlearn: 0.2226697\ttotal: 7.12s\tremaining: 1.03s\n",
      "874:\tlearn: 0.2226021\ttotal: 7.13s\tremaining: 1.02s\n",
      "875:\tlearn: 0.2225791\ttotal: 7.14s\tremaining: 1.01s\n",
      "876:\tlearn: 0.2225648\ttotal: 7.15s\tremaining: 1s\n",
      "877:\tlearn: 0.2225355\ttotal: 7.16s\tremaining: 995ms\n",
      "878:\tlearn: 0.2225176\ttotal: 7.17s\tremaining: 986ms\n",
      "879:\tlearn: 0.2225006\ttotal: 7.17s\tremaining: 978ms\n",
      "880:\tlearn: 0.2224698\ttotal: 7.18s\tremaining: 970ms\n",
      "881:\tlearn: 0.2224378\ttotal: 7.19s\tremaining: 962ms\n",
      "882:\tlearn: 0.2224021\ttotal: 7.2s\tremaining: 954ms\n",
      "883:\tlearn: 0.2223707\ttotal: 7.2s\tremaining: 945ms\n",
      "884:\tlearn: 0.2223354\ttotal: 7.21s\tremaining: 937ms\n",
      "885:\tlearn: 0.2223007\ttotal: 7.22s\tremaining: 929ms\n",
      "886:\tlearn: 0.2222663\ttotal: 7.23s\tremaining: 921ms\n",
      "887:\tlearn: 0.2221873\ttotal: 7.24s\tremaining: 913ms\n",
      "888:\tlearn: 0.2221475\ttotal: 7.24s\tremaining: 904ms\n",
      "889:\tlearn: 0.2220957\ttotal: 7.25s\tremaining: 896ms\n",
      "890:\tlearn: 0.2220238\ttotal: 7.26s\tremaining: 888ms\n",
      "891:\tlearn: 0.2219978\ttotal: 7.26s\tremaining: 880ms\n",
      "892:\tlearn: 0.2219503\ttotal: 7.27s\tremaining: 871ms\n",
      "893:\tlearn: 0.2219231\ttotal: 7.28s\tremaining: 863ms\n",
      "894:\tlearn: 0.2219053\ttotal: 7.29s\tremaining: 855ms\n",
      "895:\tlearn: 0.2218697\ttotal: 7.29s\tremaining: 847ms\n",
      "896:\tlearn: 0.2218290\ttotal: 7.3s\tremaining: 838ms\n",
      "897:\tlearn: 0.2217924\ttotal: 7.31s\tremaining: 830ms\n",
      "898:\tlearn: 0.2217577\ttotal: 7.32s\tremaining: 822ms\n",
      "899:\tlearn: 0.2216874\ttotal: 7.33s\tremaining: 814ms\n",
      "900:\tlearn: 0.2216249\ttotal: 7.33s\tremaining: 806ms\n",
      "901:\tlearn: 0.2216039\ttotal: 7.34s\tremaining: 798ms\n",
      "902:\tlearn: 0.2215636\ttotal: 7.35s\tremaining: 789ms\n",
      "903:\tlearn: 0.2215387\ttotal: 7.36s\tremaining: 781ms\n",
      "904:\tlearn: 0.2215116\ttotal: 7.36s\tremaining: 773ms\n",
      "905:\tlearn: 0.2214686\ttotal: 7.37s\tremaining: 765ms\n",
      "906:\tlearn: 0.2214510\ttotal: 7.38s\tremaining: 757ms\n",
      "907:\tlearn: 0.2214155\ttotal: 7.39s\tremaining: 748ms\n",
      "908:\tlearn: 0.2213824\ttotal: 7.39s\tremaining: 740ms\n",
      "909:\tlearn: 0.2213401\ttotal: 7.4s\tremaining: 732ms\n",
      "910:\tlearn: 0.2213144\ttotal: 7.41s\tremaining: 724ms\n",
      "911:\tlearn: 0.2212511\ttotal: 7.42s\tremaining: 716ms\n",
      "912:\tlearn: 0.2212384\ttotal: 7.42s\tremaining: 707ms\n",
      "913:\tlearn: 0.2211811\ttotal: 7.43s\tremaining: 699ms\n",
      "914:\tlearn: 0.2211504\ttotal: 7.44s\tremaining: 691ms\n",
      "915:\tlearn: 0.2210885\ttotal: 7.45s\tremaining: 683ms\n",
      "916:\tlearn: 0.2210749\ttotal: 7.45s\tremaining: 675ms\n",
      "917:\tlearn: 0.2210494\ttotal: 7.46s\tremaining: 666ms\n",
      "918:\tlearn: 0.2210080\ttotal: 7.47s\tremaining: 658ms\n",
      "919:\tlearn: 0.2209497\ttotal: 7.48s\tremaining: 650ms\n",
      "920:\tlearn: 0.2209123\ttotal: 7.49s\tremaining: 642ms\n",
      "921:\tlearn: 0.2208882\ttotal: 7.49s\tremaining: 634ms\n",
      "922:\tlearn: 0.2208562\ttotal: 7.5s\tremaining: 626ms\n",
      "923:\tlearn: 0.2208286\ttotal: 7.51s\tremaining: 617ms\n",
      "924:\tlearn: 0.2208015\ttotal: 7.51s\tremaining: 609ms\n",
      "925:\tlearn: 0.2207672\ttotal: 7.52s\tremaining: 601ms\n",
      "926:\tlearn: 0.2206945\ttotal: 7.53s\tremaining: 593ms\n",
      "927:\tlearn: 0.2206485\ttotal: 7.54s\tremaining: 585ms\n",
      "928:\tlearn: 0.2206109\ttotal: 7.54s\tremaining: 577ms\n"
     ]
    },
    {
     "name": "stdout",
     "output_type": "stream",
     "text": [
      "929:\tlearn: 0.2205823\ttotal: 7.55s\tremaining: 568ms\n",
      "930:\tlearn: 0.2205567\ttotal: 7.56s\tremaining: 560ms\n",
      "931:\tlearn: 0.2204685\ttotal: 7.57s\tremaining: 552ms\n",
      "932:\tlearn: 0.2204501\ttotal: 7.58s\tremaining: 544ms\n",
      "933:\tlearn: 0.2204138\ttotal: 7.58s\tremaining: 536ms\n",
      "934:\tlearn: 0.2203494\ttotal: 7.59s\tremaining: 528ms\n",
      "935:\tlearn: 0.2203206\ttotal: 7.6s\tremaining: 519ms\n",
      "936:\tlearn: 0.2203056\ttotal: 7.61s\tremaining: 511ms\n",
      "937:\tlearn: 0.2202823\ttotal: 7.61s\tremaining: 503ms\n",
      "938:\tlearn: 0.2202432\ttotal: 7.62s\tremaining: 495ms\n",
      "939:\tlearn: 0.2201947\ttotal: 7.63s\tremaining: 487ms\n",
      "940:\tlearn: 0.2201446\ttotal: 7.63s\tremaining: 479ms\n",
      "941:\tlearn: 0.2201021\ttotal: 7.64s\tremaining: 471ms\n",
      "942:\tlearn: 0.2200246\ttotal: 7.65s\tremaining: 462ms\n",
      "943:\tlearn: 0.2199586\ttotal: 7.66s\tremaining: 454ms\n",
      "944:\tlearn: 0.2199061\ttotal: 7.67s\tremaining: 446ms\n",
      "945:\tlearn: 0.2198570\ttotal: 7.67s\tremaining: 438ms\n",
      "946:\tlearn: 0.2198438\ttotal: 7.68s\tremaining: 430ms\n",
      "947:\tlearn: 0.2197995\ttotal: 7.69s\tremaining: 422ms\n",
      "948:\tlearn: 0.2197826\ttotal: 7.69s\tremaining: 414ms\n",
      "949:\tlearn: 0.2197335\ttotal: 7.7s\tremaining: 405ms\n",
      "950:\tlearn: 0.2197059\ttotal: 7.71s\tremaining: 397ms\n",
      "951:\tlearn: 0.2196656\ttotal: 7.71s\tremaining: 389ms\n",
      "952:\tlearn: 0.2196320\ttotal: 7.72s\tremaining: 381ms\n",
      "953:\tlearn: 0.2195834\ttotal: 7.73s\tremaining: 373ms\n",
      "954:\tlearn: 0.2195428\ttotal: 7.74s\tremaining: 365ms\n",
      "955:\tlearn: 0.2195105\ttotal: 7.75s\tremaining: 357ms\n",
      "956:\tlearn: 0.2194914\ttotal: 7.75s\tremaining: 348ms\n",
      "957:\tlearn: 0.2194569\ttotal: 7.76s\tremaining: 340ms\n",
      "958:\tlearn: 0.2194310\ttotal: 7.77s\tremaining: 332ms\n",
      "959:\tlearn: 0.2194186\ttotal: 7.78s\tremaining: 324ms\n",
      "960:\tlearn: 0.2193724\ttotal: 7.78s\tremaining: 316ms\n",
      "961:\tlearn: 0.2193286\ttotal: 7.79s\tremaining: 308ms\n",
      "962:\tlearn: 0.2193034\ttotal: 7.8s\tremaining: 300ms\n",
      "963:\tlearn: 0.2192742\ttotal: 7.81s\tremaining: 292ms\n",
      "964:\tlearn: 0.2192322\ttotal: 7.82s\tremaining: 283ms\n",
      "965:\tlearn: 0.2191897\ttotal: 7.82s\tremaining: 275ms\n",
      "966:\tlearn: 0.2191533\ttotal: 7.83s\tremaining: 267ms\n",
      "967:\tlearn: 0.2191112\ttotal: 7.84s\tremaining: 259ms\n",
      "968:\tlearn: 0.2190735\ttotal: 7.84s\tremaining: 251ms\n",
      "969:\tlearn: 0.2190305\ttotal: 7.85s\tremaining: 243ms\n",
      "970:\tlearn: 0.2190062\ttotal: 7.86s\tremaining: 235ms\n",
      "971:\tlearn: 0.2189555\ttotal: 7.87s\tremaining: 227ms\n",
      "972:\tlearn: 0.2189254\ttotal: 7.87s\tremaining: 218ms\n",
      "973:\tlearn: 0.2188951\ttotal: 7.88s\tremaining: 210ms\n",
      "974:\tlearn: 0.2188715\ttotal: 7.89s\tremaining: 202ms\n",
      "975:\tlearn: 0.2188341\ttotal: 7.89s\tremaining: 194ms\n",
      "976:\tlearn: 0.2187942\ttotal: 7.9s\tremaining: 186ms\n",
      "977:\tlearn: 0.2187548\ttotal: 7.91s\tremaining: 178ms\n",
      "978:\tlearn: 0.2187302\ttotal: 7.92s\tremaining: 170ms\n",
      "979:\tlearn: 0.2186982\ttotal: 7.92s\tremaining: 162ms\n",
      "980:\tlearn: 0.2186582\ttotal: 7.93s\tremaining: 154ms\n",
      "981:\tlearn: 0.2186288\ttotal: 7.94s\tremaining: 146ms\n",
      "982:\tlearn: 0.2185922\ttotal: 7.95s\tremaining: 137ms\n",
      "983:\tlearn: 0.2185289\ttotal: 7.96s\tremaining: 129ms\n",
      "984:\tlearn: 0.2184882\ttotal: 7.96s\tremaining: 121ms\n",
      "985:\tlearn: 0.2184371\ttotal: 7.97s\tremaining: 113ms\n",
      "986:\tlearn: 0.2184134\ttotal: 7.98s\tremaining: 105ms\n",
      "987:\tlearn: 0.2183958\ttotal: 7.98s\tremaining: 97ms\n",
      "988:\tlearn: 0.2183214\ttotal: 7.99s\tremaining: 88.9ms\n",
      "989:\tlearn: 0.2182865\ttotal: 8s\tremaining: 80.8ms\n",
      "990:\tlearn: 0.2182611\ttotal: 8.01s\tremaining: 72.7ms\n",
      "991:\tlearn: 0.2182338\ttotal: 8.01s\tremaining: 64.6ms\n",
      "992:\tlearn: 0.2182053\ttotal: 8.02s\tremaining: 56.5ms\n",
      "993:\tlearn: 0.2181520\ttotal: 8.03s\tremaining: 48.5ms\n",
      "994:\tlearn: 0.2181342\ttotal: 8.04s\tremaining: 40.4ms\n",
      "995:\tlearn: 0.2181172\ttotal: 8.04s\tremaining: 32.3ms\n",
      "996:\tlearn: 0.2180794\ttotal: 8.05s\tremaining: 24.2ms\n",
      "997:\tlearn: 0.2180299\ttotal: 8.06s\tremaining: 16.1ms\n",
      "998:\tlearn: 0.2179959\ttotal: 8.07s\tremaining: 8.07ms\n",
      "999:\tlearn: 0.2179527\ttotal: 8.07s\tremaining: 0us\n",
      "*****************************************************\n",
      "Accuracy score for CatBoostClassifier is : 0.87655160686958\n",
      "AUC score for CatBoostClassifier is:  0.6649728841510585\n",
      "The precision score for CatBoostClassifier is : 0.6563786008230452\n",
      "*****************************************************\n",
      "\n",
      "\n"
     ]
    }
   ],
   "source": [
    "model_training(X_train,X_test,y_train,y_test)"
   ]
  },
  {
   "cell_type": "code",
   "execution_count": 70,
   "metadata": {},
   "outputs": [
    {
     "name": "stdout",
     "output_type": "stream",
     "text": [
      "Accuracy score for SVC is : 0.8507056623023296\n",
      "AUC score for SVC is:  0.5\n",
      "The precision score for SVC is : 0.0\n"
     ]
    }
   ],
   "source": [
    "svc = SVC()\n",
    "svc.fit(X_train,y_train)\n",
    "svc_preds = svc.predict(X_test)\n",
    "print(\"Accuracy score for SVC is :\",accuracy_score(y_test,svc_preds))\n",
    "print(\"AUC score for SVC is: \",auc(y_test,svc_preds))\n",
    "print(\"The precision score for SVC is :\",precision_score(y_test, svc_preds))\n"
   ]
  },
  {
   "cell_type": "code",
   "execution_count": 65,
   "metadata": {},
   "outputs": [
    {
     "data": {
      "text/html": [
       "<div>\n",
       "<style scoped>\n",
       "    .dataframe tbody tr th:only-of-type {\n",
       "        vertical-align: middle;\n",
       "    }\n",
       "\n",
       "    .dataframe tbody tr th {\n",
       "        vertical-align: top;\n",
       "    }\n",
       "\n",
       "    .dataframe thead th {\n",
       "        text-align: right;\n",
       "    }\n",
       "</style>\n",
       "<table border=\"1\" class=\"dataframe\">\n",
       "  <thead>\n",
       "    <tr style=\"text-align: right;\">\n",
       "      <th></th>\n",
       "      <th>uniqueid</th>\n",
       "      <th>bank_account</th>\n",
       "    </tr>\n",
       "  </thead>\n",
       "  <tbody>\n",
       "    <tr>\n",
       "      <th>0</th>\n",
       "      <td>uniqueid_7867 x Kenya</td>\n",
       "      <td>1.0</td>\n",
       "    </tr>\n",
       "    <tr>\n",
       "      <th>1</th>\n",
       "      <td>uniqueid_6722 x Kenya</td>\n",
       "      <td>0.0</td>\n",
       "    </tr>\n",
       "    <tr>\n",
       "      <th>2</th>\n",
       "      <td>uniqueid_6714 x Kenya</td>\n",
       "      <td>1.0</td>\n",
       "    </tr>\n",
       "    <tr>\n",
       "      <th>3</th>\n",
       "      <td>uniqueid_8103 x Kenya</td>\n",
       "      <td>1.0</td>\n",
       "    </tr>\n",
       "    <tr>\n",
       "      <th>4</th>\n",
       "      <td>uniqueid_8657 x Kenya</td>\n",
       "      <td>1.0</td>\n",
       "    </tr>\n",
       "  </tbody>\n",
       "</table>\n",
       "</div>"
      ],
      "text/plain": [
       "                uniqueid  bank_account\n",
       "0  uniqueid_7867 x Kenya           1.0\n",
       "1  uniqueid_6722 x Kenya           0.0\n",
       "2  uniqueid_6714 x Kenya           1.0\n",
       "3  uniqueid_8103 x Kenya           1.0\n",
       "4  uniqueid_8657 x Kenya           1.0"
      ]
     },
     "execution_count": 65,
     "metadata": {},
     "output_type": "execute_result"
    }
   ],
   "source": [
    "sub= pd.read_csv('SubmissionFile.csv')\n",
    "sub.head()"
   ]
  },
  {
   "cell_type": "code",
   "execution_count": 68,
   "metadata": {},
   "outputs": [],
   "source": [
    "predss = cbc.predict(Xx1)"
   ]
  },
  {
   "cell_type": "code",
   "execution_count": 69,
   "metadata": {},
   "outputs": [],
   "source": [
    "#convert the predictions to pandas dataframe\n",
    "submission = pd.DataFrame(data={'uniqueid':testId+' x '+ testCountry,'bank_account':predss})\n",
    "\n",
    "submission.to_csv('Submission.csv',index=False)\n",
    "                          \n",
    "\n",
    "\n"
   ]
  },
  {
   "cell_type": "code",
   "execution_count": null,
   "metadata": {},
   "outputs": [],
   "source": []
  }
 ],
 "metadata": {
  "kernelspec": {
   "display_name": "Python 3",
   "language": "python",
   "name": "python3"
  },
  "language_info": {
   "codemirror_mode": {
    "name": "ipython",
    "version": 3
   },
   "file_extension": ".py",
   "mimetype": "text/x-python",
   "name": "python",
   "nbconvert_exporter": "python",
   "pygments_lexer": "ipython3",
   "version": "3.8.5"
  }
 },
 "nbformat": 4,
 "nbformat_minor": 4
}
