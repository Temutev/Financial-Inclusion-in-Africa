{
 "cells": [
  {
   "cell_type": "code",
   "execution_count": 1,
   "metadata": {},
   "outputs": [],
   "source": [
    "## We want to use catboost-classifier for this session \n",
    "\n",
    "import pandas as pd \n",
    "import numpy as np\n",
    "import seaborn as sns \n",
    "import matplotlib.pyplot as plt \n",
    "%matplotlib inline \n",
    "\n",
    "import warnings \n",
    "warnings.filterwarnings('ignore')\n",
    "sns.set_theme(context='notebook', style='darkgrid', palette='deep', font='sans-serif', font_scale=1, color_codes=True, rc=None)\n",
    "\n",
    "from sklearn.preprocessing import LabelBinarizer\n",
    "\n",
    "from sklearn import preprocessing \n",
    "\n",
    "from catboost import CatBoostClassifier,Pool\n",
    "from sklearn.model_selection import StratifiedKFold\n",
    "from sklearn.metrics import auc, classification_report, roc_auc_score\n",
    "from sklearn.metrics import accuracy_score\n"
   ]
  },
  {
   "cell_type": "code",
   "execution_count": 2,
   "metadata": {},
   "outputs": [
    {
     "data": {
      "text/html": [
       "<div>\n",
       "<style scoped>\n",
       "    .dataframe tbody tr th:only-of-type {\n",
       "        vertical-align: middle;\n",
       "    }\n",
       "\n",
       "    .dataframe tbody tr th {\n",
       "        vertical-align: top;\n",
       "    }\n",
       "\n",
       "    .dataframe thead th {\n",
       "        text-align: right;\n",
       "    }\n",
       "</style>\n",
       "<table border=\"1\" class=\"dataframe\">\n",
       "  <thead>\n",
       "    <tr style=\"text-align: right;\">\n",
       "      <th></th>\n",
       "      <th>Variable Definitions</th>\n",
       "      <th>Unnamed: 1</th>\n",
       "    </tr>\n",
       "  </thead>\n",
       "  <tbody>\n",
       "    <tr>\n",
       "      <th>0</th>\n",
       "      <td>country</td>\n",
       "      <td>Country interviewee is in.</td>\n",
       "    </tr>\n",
       "    <tr>\n",
       "      <th>1</th>\n",
       "      <td>year</td>\n",
       "      <td>Year survey was done in.</td>\n",
       "    </tr>\n",
       "    <tr>\n",
       "      <th>2</th>\n",
       "      <td>uniqueid</td>\n",
       "      <td>Unique identifier for each interviewee</td>\n",
       "    </tr>\n",
       "    <tr>\n",
       "      <th>3</th>\n",
       "      <td>location_type</td>\n",
       "      <td>Type of location: Rural, Urban</td>\n",
       "    </tr>\n",
       "    <tr>\n",
       "      <th>4</th>\n",
       "      <td>cellphone_access</td>\n",
       "      <td>If interviewee has access to a cellphone: Yes, No</td>\n",
       "    </tr>\n",
       "    <tr>\n",
       "      <th>5</th>\n",
       "      <td>household_size</td>\n",
       "      <td>Number of people living in one house</td>\n",
       "    </tr>\n",
       "    <tr>\n",
       "      <th>6</th>\n",
       "      <td>age_of_respondent</td>\n",
       "      <td>The age of the interviewee</td>\n",
       "    </tr>\n",
       "    <tr>\n",
       "      <th>7</th>\n",
       "      <td>gender_of_respondent</td>\n",
       "      <td>Gender of interviewee: Male, Female</td>\n",
       "    </tr>\n",
       "    <tr>\n",
       "      <th>8</th>\n",
       "      <td>relationship_with_head</td>\n",
       "      <td>The interviewee’s relationship with the head o...</td>\n",
       "    </tr>\n",
       "    <tr>\n",
       "      <th>9</th>\n",
       "      <td>marital_status</td>\n",
       "      <td>The martial status of the interviewee: Married...</td>\n",
       "    </tr>\n",
       "    <tr>\n",
       "      <th>10</th>\n",
       "      <td>education_level</td>\n",
       "      <td>Highest level of education: No formal educatio...</td>\n",
       "    </tr>\n",
       "    <tr>\n",
       "      <th>11</th>\n",
       "      <td>job_type</td>\n",
       "      <td>Type of job interviewee has: Farming and Fishi...</td>\n",
       "    </tr>\n",
       "  </tbody>\n",
       "</table>\n",
       "</div>"
      ],
      "text/plain": [
       "      Variable Definitions                                         Unnamed: 1\n",
       "0                  country                         Country interviewee is in.\n",
       "1                     year                           Year survey was done in.\n",
       "2                 uniqueid             Unique identifier for each interviewee\n",
       "3            location_type                     Type of location: Rural, Urban\n",
       "4         cellphone_access  If interviewee has access to a cellphone: Yes, No\n",
       "5           household_size               Number of people living in one house\n",
       "6        age_of_respondent                         The age of the interviewee\n",
       "7     gender_of_respondent                Gender of interviewee: Male, Female\n",
       "8   relationship_with_head  The interviewee’s relationship with the head o...\n",
       "9           marital_status  The martial status of the interviewee: Married...\n",
       "10         education_level  Highest level of education: No formal educatio...\n",
       "11                job_type  Type of job interviewee has: Farming and Fishi..."
      ]
     },
     "execution_count": 2,
     "metadata": {},
     "output_type": "execute_result"
    }
   ],
   "source": [
    "#lets load both our train and test datasets .\n",
    "# additionally , lets also load our variable definition file\n",
    "\n",
    "train = pd.read_csv('train.csv')\n",
    "test = pd.read_csv('test.csv')\n",
    "vardef = pd.read_csv('VariableDefinitions.csv')\n",
    "\n",
    "# lets create a copy for both the train and test dataset \n",
    "trainCopy = train.copy()\n",
    "testCopy = test.copy()\n",
    "\n",
    "\n",
    "# lets have a look at our variable definition \n",
    "vardef"
   ]
  },
  {
   "cell_type": "code",
   "execution_count": 3,
   "metadata": {},
   "outputs": [],
   "source": [
    "train['fam_bin']= pd.qcut(train.household_size,3,labels=['Small','Medium','Large'])\n",
    "\n",
    "test['fam_bin']= pd.qcut(test.household_size,3,labels=['Small','Medium','Large'])\n",
    "\n",
    "\n",
    "# let us try binning the age of respondent to find out the distribution for each country \n",
    "train['age_bins'] =pd.qcut(train.age_of_respondent, 4, labels=['Young','Youth','Adult','Old-ish'])\n",
    "\n",
    "\n",
    "test['age_bins'] =pd.qcut(test.age_of_respondent, 4, labels=['Young','Youth','Adult','Old-ish'])\n",
    "\n",
    "\n",
    "\n",
    "#change the data types \n",
    "#train['year']=train['year'].astype('category')\n",
    "train['household_size'] = train['household_size'].astype('int32')\n",
    "train['age_of_respondent'] = train['age_of_respondent'].astype('int32')\n",
    "\n",
    "test['household_size'] = test['household_size'].astype('int32')\n",
    "test['age_of_respondent'] = test['age_of_respondent'].astype('int32')\n"
   ]
  },
  {
   "cell_type": "code",
   "execution_count": 4,
   "metadata": {},
   "outputs": [],
   "source": [
    "train['marital_status']=train['marital_status'].replace(to_replace =\"Dont know\", value =\"Married/Living together\")\n",
    "\n",
    "test['marital_status']=test['marital_status'].replace(to_replace =\"Dont know\", value =\"Married/Living together\")\n",
    "\n",
    "\n",
    "train['education_level'] = train['education_level'].replace(to_replace=\"Other/Dont know/RTA\", value=\"Primary education\")\n",
    "\n",
    "test['education_level'] = test['education_level'].replace(to_replace=\"Other/Dont know/RTA\", value=\"Primary education\")"
   ]
  },
  {
   "cell_type": "code",
   "execution_count": 5,
   "metadata": {},
   "outputs": [],
   "source": [
    "# label binarize the following columns \n",
    "\n",
    "from sklearn.preprocessing import LabelBinarizer\n",
    "\n",
    "lb = LabelBinarizer()\n",
    "train['bank_account']=lb.fit_transform(train['bank_account'])"
   ]
  },
  {
   "cell_type": "code",
   "execution_count": 6,
   "metadata": {},
   "outputs": [],
   "source": [
    "trainId = train['uniqueid']\n",
    "testId = test['uniqueid']\n",
    "testCountry = test['country']\n",
    "y= train['bank_account']\n",
    "X = train.drop(['uniqueid','bank_account'] ,axis =1)\n",
    "Xtest = test.drop('uniqueid',axis =1)\n"
   ]
  },
  {
   "cell_type": "code",
   "execution_count": 7,
   "metadata": {},
   "outputs": [
    {
     "data": {
      "text/plain": [
       "(23524, 15)"
      ]
     },
     "execution_count": 7,
     "metadata": {},
     "output_type": "execute_result"
    }
   ],
   "source": [
    "train.shape"
   ]
  },
  {
   "cell_type": "code",
   "execution_count": 8,
   "metadata": {},
   "outputs": [
    {
     "data": {
      "text/plain": [
       "(10086, 14)"
      ]
     },
     "execution_count": 8,
     "metadata": {},
     "output_type": "execute_result"
    }
   ],
   "source": [
    "test.shape"
   ]
  },
  {
   "cell_type": "code",
   "execution_count": 9,
   "metadata": {},
   "outputs": [
    {
     "data": {
      "text/plain": [
       "Index(['country', 'year', 'uniqueid', 'bank_account', 'location_type',\n",
       "       'cellphone_access', 'household_size', 'age_of_respondent',\n",
       "       'gender_of_respondent', 'relationship_with_head', 'marital_status',\n",
       "       'education_level', 'job_type', 'fam_bin', 'age_bins'],\n",
       "      dtype='object')"
      ]
     },
     "execution_count": 9,
     "metadata": {},
     "output_type": "execute_result"
    }
   ],
   "source": [
    "# Declaring our categorical columns \n",
    "train.columns"
   ]
  },
  {
   "cell_type": "code",
   "execution_count": 10,
   "metadata": {},
   "outputs": [],
   "source": [
    "cat_cols =['country','location_type',\n",
    "                'cellphone_access','gender_of_respondent',\n",
    "               'relationship_with_head','marital_status',\n",
    "               'education_level','job_type','fam_bin','age_bins']\n",
    "\n",
    "cat_features = X[cat_cols]\n",
    "catXtest_features = Xtest[cat_cols]\n",
    "           "
   ]
  },
  {
   "cell_type": "code",
   "execution_count": 11,
   "metadata": {},
   "outputs": [
    {
     "name": "stdout",
     "output_type": "stream",
     "text": [
      "Labels:  {0, 1}  \n",
      "Zero count = 20212  One count = 3312\n"
     ]
    }
   ],
   "source": [
    "# Looking on label balance on our target data\n",
    "print('Labels:  {}  '.format(set(y)))\n",
    "\n",
    "print('Zero count = {}  One count = {}'.format(len(y)-sum(y) ,sum(y)))\n"
   ]
  },
  {
   "cell_type": "code",
   "execution_count": 12,
   "metadata": {},
   "outputs": [
    {
     "name": "stdout",
     "output_type": "stream",
     "text": [
      "Even rate for this study is =  6.102657004830918 \n"
     ]
    }
   ],
   "source": [
    "even_rate = (len(y)-sum(y))/sum(y)\n",
    "print('Even rate for this study is =  {} '.format(even_rate))"
   ]
  },
  {
   "cell_type": "code",
   "execution_count": 13,
   "metadata": {},
   "outputs": [],
   "source": [
    "# Let's use pool to split our data into train and validation data \n",
    "from catboost import Pool\n",
    "pool = Pool(data=X,label=y,cat_features=cat_features)"
   ]
  },
  {
   "cell_type": "code",
   "execution_count": 14,
   "metadata": {},
   "outputs": [],
   "source": [
    "from sklearn.model_selection import train_test_split \n",
    "data = train_test_split(X,y,test_size=0.2,random_state=21)\n",
    "X_train,X_validation,y_train,y_validation = data \n",
    "\n",
    "# this is our training pool\n",
    "train_pool = Pool(\n",
    "data=X_train,\n",
    "label =  y_train,\n",
    "cat_features =  cat_features\n",
    ")\n",
    "\n",
    "# here is our validation pool\n",
    "validation_pool = Pool(\n",
    "data=X_validation,\n",
    "label =  y_validation,\n",
    "cat_features =  cat_features\n",
    ")"
   ]
  },
  {
   "cell_type": "code",
   "execution_count": 15,
   "metadata": {},
   "outputs": [
    {
     "data": {
      "application/vnd.jupyter.widget-view+json": {
       "model_id": "c74d177514a04c348186b2878ff2012a",
       "version_major": 2,
       "version_minor": 0
      },
      "text/plain": [
       "MetricVisualizer(layout=Layout(align_self='stretch', height='500px'))"
      ]
     },
     "metadata": {},
     "output_type": "display_data"
    },
    {
     "name": "stdout",
     "output_type": "stream",
     "text": [
      "Model is fitted: True\n",
      "Model params:\n",
      " {'iterations': 400, 'custom_loss': ['AUC', 'Accuracy'], 'early_stopping_rounds': 270}\n"
     ]
    }
   ],
   "source": [
    "## model_two using  CatBoostClassifier \n",
    "model = CatBoostClassifier( iterations=400,early_stopping_rounds=270,custom_loss=['AUC','Accuracy'])\n",
    "\n",
    "model.fit(train_pool,eval_set=validation_pool,verbose=False,plot=True)\n",
    "\n",
    "print('Model is fitted: {}'.format(model.is_fitted()))\n",
    "print('Model params:\\n {}'.format(model.get_params()))"
   ]
  },
  {
   "cell_type": "code",
   "execution_count": 16,
   "metadata": {},
   "outputs": [
    {
     "data": {
      "application/vnd.jupyter.widget-view+json": {
       "model_id": "302f5e394805495087cb7283b15976a5",
       "version_major": 2,
       "version_minor": 0
      },
      "text/plain": [
       "MetricVisualizer(layout=Layout(align_self='stretch', height='500px'))"
      ]
     },
     "metadata": {},
     "output_type": "display_data"
    },
    {
     "data": {
      "text/plain": [
       "<catboost.core.CatBoostClassifier at 0x225522c5730>"
      ]
     },
     "execution_count": 16,
     "metadata": {},
     "output_type": "execute_result"
    }
   ],
   "source": [
    "model = CatBoostClassifier(loss_function='Logloss',\n",
    "                                               cat_features = cat_features,\n",
    "                                               iterations = 400,\n",
    "                                               l2_leaf_reg = 1,\n",
    "                                               depth = 5\n",
    "                                               \n",
    "                                              )\n",
    "\n",
    "model.fit( train_pool,\n",
    "    eval_set = validation_pool,\n",
    "    verbose=False,\n",
    "    plot=True\n",
    ")"
   ]
  },
  {
   "cell_type": "code",
   "execution_count": 21,
   "metadata": {},
   "outputs": [
    {
     "data": {
      "text/html": [
       "<div>\n",
       "<style scoped>\n",
       "    .dataframe tbody tr th:only-of-type {\n",
       "        vertical-align: middle;\n",
       "    }\n",
       "\n",
       "    .dataframe tbody tr th {\n",
       "        vertical-align: top;\n",
       "    }\n",
       "\n",
       "    .dataframe thead th {\n",
       "        text-align: right;\n",
       "    }\n",
       "</style>\n",
       "<table border=\"1\" class=\"dataframe\">\n",
       "  <thead>\n",
       "    <tr style=\"text-align: right;\">\n",
       "      <th></th>\n",
       "      <th>Feature Id</th>\n",
       "      <th>Importances</th>\n",
       "    </tr>\n",
       "  </thead>\n",
       "  <tbody>\n",
       "    <tr>\n",
       "      <th>0</th>\n",
       "      <td>cellphone_access</td>\n",
       "      <td>26.588550</td>\n",
       "    </tr>\n",
       "    <tr>\n",
       "      <th>1</th>\n",
       "      <td>education_level</td>\n",
       "      <td>18.947977</td>\n",
       "    </tr>\n",
       "    <tr>\n",
       "      <th>2</th>\n",
       "      <td>age_of_respondent</td>\n",
       "      <td>11.049296</td>\n",
       "    </tr>\n",
       "    <tr>\n",
       "      <th>3</th>\n",
       "      <td>country</td>\n",
       "      <td>10.979236</td>\n",
       "    </tr>\n",
       "    <tr>\n",
       "      <th>4</th>\n",
       "      <td>job_type</td>\n",
       "      <td>9.787510</td>\n",
       "    </tr>\n",
       "    <tr>\n",
       "      <th>5</th>\n",
       "      <td>location_type</td>\n",
       "      <td>5.714599</td>\n",
       "    </tr>\n",
       "    <tr>\n",
       "      <th>6</th>\n",
       "      <td>relationship_with_head</td>\n",
       "      <td>4.611954</td>\n",
       "    </tr>\n",
       "    <tr>\n",
       "      <th>7</th>\n",
       "      <td>year</td>\n",
       "      <td>3.481437</td>\n",
       "    </tr>\n",
       "    <tr>\n",
       "      <th>8</th>\n",
       "      <td>marital_status</td>\n",
       "      <td>2.996295</td>\n",
       "    </tr>\n",
       "    <tr>\n",
       "      <th>9</th>\n",
       "      <td>gender_of_respondent</td>\n",
       "      <td>2.811182</td>\n",
       "    </tr>\n",
       "    <tr>\n",
       "      <th>10</th>\n",
       "      <td>age_bins</td>\n",
       "      <td>1.224658</td>\n",
       "    </tr>\n",
       "    <tr>\n",
       "      <th>11</th>\n",
       "      <td>fam_bin</td>\n",
       "      <td>1.079349</td>\n",
       "    </tr>\n",
       "    <tr>\n",
       "      <th>12</th>\n",
       "      <td>household_size</td>\n",
       "      <td>0.727957</td>\n",
       "    </tr>\n",
       "  </tbody>\n",
       "</table>\n",
       "</div>"
      ],
      "text/plain": [
       "                Feature Id  Importances\n",
       "0         cellphone_access    26.588550\n",
       "1          education_level    18.947977\n",
       "2        age_of_respondent    11.049296\n",
       "3                  country    10.979236\n",
       "4                 job_type     9.787510\n",
       "5            location_type     5.714599\n",
       "6   relationship_with_head     4.611954\n",
       "7                     year     3.481437\n",
       "8           marital_status     2.996295\n",
       "9     gender_of_respondent     2.811182\n",
       "10                age_bins     1.224658\n",
       "11                 fam_bin     1.079349\n",
       "12          household_size     0.727957"
      ]
     },
     "execution_count": 21,
     "metadata": {},
     "output_type": "execute_result"
    }
   ],
   "source": [
    "model.get_feature_importance (prettified=True)"
   ]
  },
  {
   "cell_type": "markdown",
   "metadata": {},
   "source": [
    "print(X.shape)\n",
    "print(Xtest.shape)"
   ]
  },
  {
   "cell_type": "code",
   "execution_count": 18,
   "metadata": {},
   "outputs": [
    {
     "name": "stdout",
     "output_type": "stream",
     "text": [
      "Predictoins:\n",
      "[[0.15332391 0.84667609]\n",
      " [0.16094122 0.83905878]\n",
      " [0.98036358 0.01963642]\n",
      " ...\n",
      " [0.7108712  0.2891288 ]\n",
      " [0.96312491 0.03687509]\n",
      " [0.92008545 0.07991455]]\n",
      "[1 1 0 ... 0 0 0]\n"
     ]
    }
   ],
   "source": [
    "test_pool = Pool(data=Xtest, cat_features=catXtest_features)\n",
    "contest_predictions = model.predict_proba(test_pool)\n",
    "print('Predictoins:')\n",
    "print(contest_predictions)\n",
    "\n",
    "contpreds = model.predict(test_pool)\n",
    "print(contpreds)"
   ]
  },
  {
   "cell_type": "code",
   "execution_count": 19,
   "metadata": {},
   "outputs": [],
   "source": [
    "submission = pd.DataFrame(data={'uniqueid':testId+' x '+ testCountry,'bank_account':contpreds})\n",
    "\n",
    "submission.to_csv('Submission.csv',index=False)"
   ]
  },
  {
   "cell_type": "code",
   "execution_count": null,
   "metadata": {},
   "outputs": [],
   "source": []
  }
 ],
 "metadata": {
  "kernelspec": {
   "display_name": "Python 3",
   "language": "python",
   "name": "python3"
  },
  "language_info": {
   "codemirror_mode": {
    "name": "ipython",
    "version": 3
   },
   "file_extension": ".py",
   "mimetype": "text/x-python",
   "name": "python",
   "nbconvert_exporter": "python",
   "pygments_lexer": "ipython3",
   "version": "3.8.5"
  }
 },
 "nbformat": 4,
 "nbformat_minor": 4
}
